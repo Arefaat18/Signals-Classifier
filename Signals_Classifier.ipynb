{
  "nbformat": 4,
  "nbformat_minor": 0,
  "metadata": {
    "colab": {
      "name": "Signals-Classifier.ipynb",
      "provenance": [],
      "collapsed_sections": [],
      "machine_shape": "hm",
      "include_colab_link": true
    },
    "kernelspec": {
      "name": "python3",
      "display_name": "Python 3"
    }
  },
  "cells": [
    {
      "cell_type": "markdown",
      "metadata": {
        "id": "view-in-github",
        "colab_type": "text"
      },
      "source": [
        "<a href=\"https://colab.research.google.com/github/Arefaat18/Signals-Classifier/blob/master/Signals_Classifier.ipynb\" target=\"_parent\"><img src=\"https://colab.research.google.com/assets/colab-badge.svg\" alt=\"Open In Colab\"/></a>"
      ]
    },
    {
      "cell_type": "code",
      "metadata": {
        "id": "I5RY1O4btD3V",
        "colab_type": "code",
        "colab": {}
      },
      "source": [
        "import numpy as np\n",
        "import pickle\n",
        "import matplotlib.pyplot as plt\n",
        "import scipy.integrate as integrate\n",
        "from sklearn.ensemble import  RandomForestClassifier\n",
        "from sklearn.model_selection import train_test_split\n",
        "from sklearn import preprocessing\n",
        "from sklearn.linear_model import LogisticRegression\n",
        "from sklearn.ensemble import RandomForestRegressor\n",
        "from sklearn.tree import DecisionTreeClassifier\n",
        "from sklearn import preprocessing"
      ],
      "execution_count": null,
      "outputs": []
    },
    {
      "cell_type": "markdown",
      "metadata": {
        "id": "r09kKJKeCfFX",
        "colab_type": "text"
      },
      "source": [
        "**Downloading and Extracting the Dataset**"
      ]
    },
    {
      "cell_type": "code",
      "metadata": {
        "id": "CwLnEqC37UMR",
        "colab_type": "code",
        "colab": {
          "base_uri": "https://localhost:8080/",
          "height": 202
        },
        "outputId": "98e5e3b2-6c41-4087-f413-d08859c3be6b"
      },
      "source": [
        "!wget 'http://opendata.deepsig.io/datasets/2016.10/RML2016.10b.tar.bz2'"
      ],
      "execution_count": null,
      "outputs": [
        {
          "output_type": "stream",
          "text": [
            "--2020-04-28 18:23:26--  http://opendata.deepsig.io/datasets/2016.10/RML2016.10b.tar.bz2\n",
            "Resolving opendata.deepsig.io (opendata.deepsig.io)... 52.14.91.165\n",
            "Connecting to opendata.deepsig.io (opendata.deepsig.io)|52.14.91.165|:80... connected.\n",
            "HTTP request sent, awaiting response... 200 OK\n",
            "Length: 1245608913 (1.2G) [application/x-bzip2]\n",
            "Saving to: ‘RML2016.10b.tar.bz2’\n",
            "\n",
            "RML2016.10b.tar.bz2 100%[===================>]   1.16G  5.91MB/s    in 3m 5s   \n",
            "\n",
            "2020-04-28 18:26:31 (6.43 MB/s) - ‘RML2016.10b.tar.bz2’ saved [1245608913/1245608913]\n",
            "\n"
          ],
          "name": "stdout"
        }
      ]
    },
    {
      "cell_type": "code",
      "metadata": {
        "id": "5uc2ny0P7bqg",
        "colab_type": "code",
        "colab": {
          "base_uri": "https://localhost:8080/",
          "height": 50
        },
        "outputId": "b4c806b9-6fd4-42df-a30d-62aa0c557039"
      },
      "source": [
        "!tar xjvf RML2016.10b.tar.bz2"
      ],
      "execution_count": null,
      "outputs": [
        {
          "output_type": "stream",
          "text": [
            "RML2016.10b.dat\n",
            "LICENSE.TXT\n"
          ],
          "name": "stdout"
        }
      ]
    },
    {
      "cell_type": "code",
      "metadata": {
        "id": "ypePqxjjoiCF",
        "colab_type": "code",
        "colab": {}
      },
      "source": [
        "with open(\"RML2016.10b.dat\",'rb') as f:\n",
        "  Data=pickle.load(f,encoding=\"latin1\")\n",
        "snrs,mods=map(lambda j:sorted(list(set(map(lambda x:x[j],Data.keys())))),[1,0])\n",
        "dataset=[]\n",
        "labels=[]\n",
        "for mod in mods:\n",
        "  for snr in snrs:\n",
        "    dataset.append(Data[(mod,snr)])\n",
        "    for i in range(Data[mod,snr].shape[0]): labels.append((mod,snr))\n",
        "\n",
        "dataset=np.vstack(dataset)\n",
        "dataset=np.asarray(dataset)"
      ],
      "execution_count": null,
      "outputs": []
    },
    {
      "cell_type": "markdown",
      "metadata": {
        "id": "MhyStKfBCpUZ",
        "colab_type": "text"
      },
      "source": [
        "**Calculating the Derivative**"
      ]
    },
    {
      "cell_type": "code",
      "metadata": {
        "id": "tKRmV1tA-2xM",
        "colab_type": "code",
        "colab": {}
      },
      "source": [
        "derivative=[]\n",
        "for i in range(len(dataset)):\n",
        "  x=[]\n",
        "  x.append(np.gradient(dataset[i][0]))\n",
        "  x.append(np.gradient(dataset[i][1]))\n",
        "  derivative.append(x)\n",
        "derivative = np.array(derivative)"
      ],
      "execution_count": null,
      "outputs": []
    },
    {
      "cell_type": "markdown",
      "metadata": {
        "id": "A-pRv6a2C1sD",
        "colab_type": "text"
      },
      "source": [
        "**Calculating the Integral**"
      ]
    },
    {
      "cell_type": "code",
      "metadata": {
        "id": "A_ywCPilCn2j",
        "colab_type": "code",
        "colab": {
          "base_uri": "https://localhost:8080/",
          "height": 34
        },
        "outputId": "440ccd96-4356-412b-9fa8-09055f9fc0ce"
      },
      "source": [
        "integration=[]\n",
        "for i in range(len(dataset)):\n",
        "  x=[]\n",
        "  x.append(integrate.cumtrapz(dataset[i][0],initial=0))\n",
        "  x.append(integrate.cumtrapz(dataset[i][1],initial=0))\n",
        "  integration.append(x)\n",
        "integration = np.array(integration)\n",
        "print(integration.shape)"
      ],
      "execution_count": null,
      "outputs": [
        {
          "output_type": "stream",
          "text": [
            "(1200000, 2, 128)\n"
          ],
          "name": "stdout"
        }
      ]
    },
    {
      "cell_type": "code",
      "metadata": {
        "id": "lv_IA1R0Dpsy",
        "colab_type": "code",
        "colab": {
          "base_uri": "https://localhost:8080/",
          "height": 765
        },
        "outputId": "0b61f3e5-7e23-4114-c816-19e1405b72b4"
      },
      "source": [
        "plt.plot(dataset[0][0],'r')\n",
        "plt.plot(dataset[0][1],'b')\n",
        "plt.show()\n",
        "plt.plot(derivative[0][0],'r')\n",
        "plt.plot(derivative[0][1],'b')\n",
        "plt.show()\n",
        "plt.plot(integration[0][0],'r')\n",
        "plt.plot(integration[0][1],'b')\n",
        "plt.show()"
      ],
      "execution_count": null,
      "outputs": [
        {
          "output_type": "display_data",
          "data": {
            "image/png": "[encoded data removed]",
            "text/plain": [
              "<Figure size 432x288 with 1 Axes>"
            ]
          },
          "metadata": {
            "tags": [],
            "needs_background": "light"
          }
        },
        {
          "output_type": "display_data",
          "data": {
            "image/png": "[encoded data removed]",
            "text/plain": [
              "<Figure size 432x288 with 1 Axes>"
            ]
          },
          "metadata": {
            "tags": [],
            "needs_background": "light"
          }
        },
        {
          "output_type": "display_data",
          "data": {
            "image/png": "[encoded data removed]",
            "text/plain": [
              "<Figure size 432x288 with 1 Axes>"
            ]
          },
          "metadata": {
            "tags": [],
            "needs_background": "light"
          }
        }
      ]
    },
    {
      "cell_type": "code",
      "metadata": {
        "id": "Jms6LX06DIiB",
        "colab_type": "code",
        "colab": {}
      },
      "source": [
        "labels_train_validate , labels_test , data_train_validate , data_test = train_test_split(labels,dataset,test_size=0.3,random_state=42)\n",
        "labels_train , labels_validate , data_train , data_validate = train_test_split(labels_train_validate,data_train_validate,test_size=0.05,random_state=42)\n",
        "\n",
        "resized_data_train= data_train.reshape(798000,2*128)\n",
        "resized_data_test=data_test.reshape(360000,2*128)"
      ],
      "execution_count": null,
      "outputs": []
    },
    {
      "cell_type": "code",
      "metadata": {
        "id": "K8zSQxrjDMGU",
        "colab_type": "code",
        "colab": {}
      },
      "source": [
        "lbls_train=[]\n",
        "snrs_train=[]\n",
        "for i in range(len(labels_train)):\n",
        "  lbls_train.append(labels_train[i][0])\n",
        "  snrs_train.append(labels_train[i][1])\n",
        "\n",
        "lbls_test=[]\n",
        "snrs_test=[]\n",
        "for i in range(len(labels_test)):\n",
        "  lbls_test.append(labels_test[i][0])\n",
        "  snrs_test.append(labels_test[i][1])\n",
        "\n",
        "lbls_val=[]\n",
        "snrs_val=[]\n",
        "for i in range(len(labels_validate)):\n",
        "  lbls_val.append(labels_validate[i][0])\n",
        "  snrs_val.append(labels_validate[i][1])\n",
        "\n",
        "lbls_test = np.array(lbls_test)\n",
        "snrs_test = np.array(snrs_test)"
      ],
      "execution_count": null,
      "outputs": []
    },
    {
      "cell_type": "markdown",
      "metadata": {
        "id": "YA3mBQuLGtnI",
        "colab_type": "text"
      },
      "source": [
        "# **Raw Time**"
      ]
    },
    {
      "cell_type": "markdown",
      "metadata": {
        "id": "gKtExdfSEc4D",
        "colab_type": "text"
      },
      "source": [
        "**Random Forest Classifier**"
      ]
    },
    {
      "cell_type": "code",
      "metadata": {
        "id": "7nflVAuSDXpj",
        "colab_type": "code",
        "colab": {
          "base_uri": "https://localhost:8080/",
          "height": 151
        },
        "outputId": "a20bd892-c4f2-46d0-ac15-0092a3324a77"
      },
      "source": [
        "lb = preprocessing.LabelBinarizer()\n",
        "lb.fit(lbls_train)\n",
        "\n",
        "clf=RandomForestClassifier()\n",
        "clf.fit(resized_data_train,lb.transform(lbls_train))"
      ],
      "execution_count": null,
      "outputs": [
        {
          "output_type": "execute_result",
          "data": {
            "text/plain": [
              "RandomForestClassifier(bootstrap=True, ccp_alpha=0.0, class_weight=None,\n",
              "                       criterion='gini', max_depth=None, max_features='auto',\n",
              "                       max_leaf_nodes=None, max_samples=None,\n",
              "                       min_impurity_decrease=0.0, min_impurity_split=None,\n",
              "                       min_samples_leaf=1, min_samples_split=2,\n",
              "                       min_weight_fraction_leaf=0.0, n_estimators=100,\n",
              "                       n_jobs=None, oob_score=False, random_state=None,\n",
              "                       verbose=0, warm_start=False)"
            ]
          },
          "metadata": {
            "tags": []
          },
          "execution_count": 11
        }
      ]
    },
    {
      "cell_type": "code",
      "metadata": {
        "id": "claLsFGsDnR9",
        "colab_type": "code",
        "colab": {
          "base_uri": "https://localhost:8080/",
          "height": 151
        },
        "outputId": "5a4c3179-6809-44bc-ce03-232cc40d1663"
      },
      "source": [
        "accuracy = []\n",
        "for snr in snrs:\n",
        "  data_test_snr=resized_data_test[np.where(snrs_test==snr)]\n",
        "  mod_test_snr=lbls_test[np.where(snrs_test==snr)]\n",
        "  score = clf.score(data_test_snr , lb.transform(mod_test_snr))\n",
        "  accuracy.append(score)\n",
        "  print(score)\n",
        "\n",
        "plt.plot(snrs,accuracy)\n",
        "plt.xlabel('SNR in db')\n",
        "plt.ylabel('Accuracy')\n",
        "plt.title(\"Accuracy / SNR\")\n",
        "plt.show()\n",
        "print(\"Average Accuracy = \",np.mean(accuracy))\n"
      ],
      "execution_count": null,
      "outputs": [
        {
          "output_type": "stream",
          "text": [
            "0.0\n",
            "0.0\n",
            "0.0\n",
            "0.0\n",
            "0.0\n",
            "0.0\n",
            "0.0\n",
            "0.0\n"
          ],
          "name": "stdout"
        }
      ]
    },
    {
      "cell_type": "markdown",
      "metadata": {
        "id": "-faDmUF4EiIt",
        "colab_type": "text"
      },
      "source": [
        "**Logistic Regression**"
      ]
    },
    {
      "cell_type": "code",
      "metadata": {
        "id": "QdFPd9nXEqiC",
        "colab_type": "code",
        "colab": {
          "base_uri": "https://localhost:8080/",
          "height": 235
        },
        "outputId": "4a1c832a-3dac-4e29-e162-59e601ebe85a"
      },
      "source": [
        "logisticRegr = LogisticRegression()\n",
        "logisticRegr.fit(resized_data_train, lbls_train)"
      ],
      "execution_count": null,
      "outputs": [
        {
          "output_type": "stream",
          "text": [
            "/usr/local/lib/python3.6/dist-packages/sklearn/linear_model/_logistic.py:940: ConvergenceWarning: lbfgs failed to converge (status=1):\n",
            "STOP: TOTAL NO. of ITERATIONS REACHED LIMIT.\n",
            "\n",
            "Increase the number of iterations (max_iter) or scale the data as shown in:\n",
            "    https://scikit-learn.org/stable/modules/preprocessing.html\n",
            "Please also refer to the documentation for alternative solver options:\n",
            "    https://scikit-learn.org/stable/modules/linear_model.html#logistic-regression\n",
            "  extra_warning_msg=_LOGISTIC_SOLVER_CONVERGENCE_MSG)\n"
          ],
          "name": "stderr"
        },
        {
          "output_type": "execute_result",
          "data": {
            "text/plain": [
              "LogisticRegression(C=1.0, class_weight=None, dual=False, fit_intercept=True,\n",
              "                   intercept_scaling=1, l1_ratio=None, max_iter=100,\n",
              "                   multi_class='auto', n_jobs=None, penalty='l2',\n",
              "                   random_state=None, solver='lbfgs', tol=0.0001, verbose=0,\n",
              "                   warm_start=False)"
            ]
          },
          "metadata": {
            "tags": []
          },
          "execution_count": 24
        }
      ]
    },
    {
      "cell_type": "code",
      "metadata": {
        "id": "CraWUR7BEtPw",
        "colab_type": "code",
        "colab": {
          "base_uri": "https://localhost:8080/",
          "height": 984
        },
        "outputId": "35d2c816-6b27-4235-9a84-7eeea892e391"
      },
      "source": [
        "accuracy = []\n",
        "for snr in snrs:\n",
        "  print (snr)\n",
        "  data_test_snr=resized_data_test[np.where(snrs_test==snr)]\n",
        "  mod_test_snr=lbls_test[np.where(snrs_test==snr)]\n",
        "  score = logisticRegr.score(data_test_snr , mod_test_snr)\n",
        "  accuracy.append(score)\n",
        "  print(score)\n",
        "\n",
        "plt.plot(snrs,accuracy)\n",
        "plt.xlabel('SNR in db')\n",
        "plt.ylabel('Accuracy')\n",
        "plt.title(\"Accuracy / SNR\")\n",
        "plt.show()\n",
        "print(\"Average Accuracy = \",np.mean(accuracy))"
      ],
      "execution_count": null,
      "outputs": [
        {
          "output_type": "stream",
          "text": [
            "-20\n",
            "0.09735643674330778\n",
            "-18\n",
            "0.09980073065426769\n",
            "-16\n",
            "0.10670630987776676\n",
            "-14\n",
            "0.1056\n",
            "-12\n",
            "0.11524803018532905\n",
            "-10\n",
            "0.1461614715277013\n",
            "-8\n",
            "0.17574908989078689\n",
            "-6\n",
            "0.1858910063523905\n",
            "-4\n",
            "0.18289429809936644\n",
            "-2\n",
            "0.18387222438644332\n",
            "0\n",
            "0.17985252536452848\n",
            "2\n",
            "0.17626459143968873\n",
            "4\n",
            "0.18255476084041128\n",
            "6\n",
            "0.18051511758118702\n",
            "8\n",
            "0.18135348372041338\n",
            "10\n",
            "0.18645961345101106\n",
            "12\n",
            "0.17957668439716312\n",
            "14\n",
            "0.1834474314020148\n",
            "16\n",
            "0.17387186629526463\n",
            "18\n",
            "0.17762756939442628\n"
          ],
          "name": "stdout"
        },
        {
          "output_type": "display_data",
          "data": {
            "image/png": "[encoded data removed]",
            "text/plain": [
              "<Figure size 432x288 with 1 Axes>"
            ]
          },
          "metadata": {
            "tags": [],
            "needs_background": "light"
          }
        },
        {
          "output_type": "stream",
          "text": [
            "Average Accuracy =  0.1600401620801734\n"
          ],
          "name": "stdout"
        }
      ]
    },
    {
      "cell_type": "markdown",
      "metadata": {
        "id": "BPum4_nrEyzh",
        "colab_type": "text"
      },
      "source": [
        "**Decision Tree**"
      ]
    },
    {
      "cell_type": "code",
      "metadata": {
        "id": "xmcQZBYyE2UV",
        "colab_type": "code",
        "colab": {
          "base_uri": "https://localhost:8080/",
          "height": 118
        },
        "outputId": "76c3c8df-cf6d-494e-85f6-17ecb97ac3de"
      },
      "source": [
        "lb = preprocessing.LabelBinarizer()\n",
        "lb.fit(lbls_train)\n",
        "clf = DecisionTreeClassifier(random_state=0)\n",
        "clf.fit(resized_data_train,lb.transform(lbls_train))\n"
      ],
      "execution_count": null,
      "outputs": [
        {
          "output_type": "execute_result",
          "data": {
            "text/plain": [
              "DecisionTreeClassifier(ccp_alpha=0.0, class_weight=None, criterion='gini',\n",
              "                       max_depth=None, max_features=None, max_leaf_nodes=None,\n",
              "                       min_impurity_decrease=0.0, min_impurity_split=None,\n",
              "                       min_samples_leaf=1, min_samples_split=2,\n",
              "                       min_weight_fraction_leaf=0.0, presort='deprecated',\n",
              "                       random_state=0, splitter='best')"
            ]
          },
          "metadata": {
            "tags": []
          },
          "execution_count": 17
        }
      ]
    },
    {
      "cell_type": "code",
      "metadata": {
        "id": "GSpiefuSGeEH",
        "colab_type": "code",
        "colab": {
          "base_uri": "https://localhost:8080/",
          "height": 984
        },
        "outputId": "9a4555e3-84dc-48c7-baf7-e483ec2f97db"
      },
      "source": [
        "accuracy = []\n",
        "for snr in snrs:\n",
        "  print(snr)\n",
        "  data_test_snr=resized_data_test[np.where(snrs_test==snr)]\n",
        "  mod_test_snr=lbls_test[np.where(snrs_test==snr)]\n",
        "  score = clf.score(data_test_snr , lb.transform(mod_test_snr))\n",
        "  print(score)\n",
        "  accuracy.append(score)\n",
        "\n",
        "plt.plot(snrs,accuracy)\n",
        "plt.xlabel('SNR in db')\n",
        "plt.ylabel('Accuracy')\n",
        "plt.title(\"Accuracy / SNR\")\n",
        "plt.show()\n",
        "print(\"Average Accuracy = \",np.mean(accuracy))"
      ],
      "execution_count": null,
      "outputs": [
        {
          "output_type": "stream",
          "text": [
            "-20\n",
            "0.10457625236032433\n",
            "-18\n",
            "0.10201483449573785\n",
            "-16\n",
            "0.10566016958484749\n",
            "-14\n",
            "0.10394482758620689\n",
            "-12\n",
            "0.10870047719454001\n",
            "-10\n",
            "0.11829496640599185\n",
            "-8\n",
            "0.12842341080929712\n",
            "-6\n",
            "0.1473866042572161\n",
            "-4\n",
            "0.18472824274758254\n",
            "-2\n",
            "0.22872725249040013\n",
            "0\n",
            "0.28408271885568553\n",
            "2\n",
            "0.34207893274041135\n",
            "4\n",
            "0.4203732677693339\n",
            "6\n",
            "0.477491601343785\n",
            "8\n",
            "0.518446494054895\n",
            "10\n",
            "0.5543514691095967\n",
            "12\n",
            "0.5514184397163121\n",
            "14\n",
            "0.5631435409361607\n",
            "16\n",
            "0.5655153203342619\n",
            "18\n",
            "0.5690065931630561\n"
          ],
          "name": "stdout"
        },
        {
          "output_type": "display_data",
          "data": {
            "image/png": "[encoded data removed]",
            "text/plain": [
              "<Figure size 432x288 with 1 Axes>"
            ]
          },
          "metadata": {
            "tags": [],
            "needs_background": "light"
          }
        },
        {
          "output_type": "stream",
          "text": [
            "Average Accuracy =  0.3089182707977821\n"
          ],
          "name": "stdout"
        }
      ]
    },
    {
      "cell_type": "markdown",
      "metadata": {
        "id": "Ua58vPuHVM65",
        "colab_type": "text"
      },
      "source": [
        "# **Derivatives**"
      ]
    },
    {
      "cell_type": "code",
      "metadata": {
        "id": "lSjSVzfnVgPP",
        "colab_type": "code",
        "colab": {}
      },
      "source": [
        "labels_train_validate , labels_test , data_train_validate , data_test = train_test_split(labels,derivative,test_size=0.3,random_state=42)\n",
        "labels_train , labels_validate , data_train , data_validate = train_test_split(labels_train_validate,data_train_validate,test_size=0.05,random_state=42)\n",
        "\n",
        "resized_data_train= data_train.reshape(798000,2*128)\n",
        "resized_data_test=data_test.reshape(360000,2*128)"
      ],
      "execution_count": null,
      "outputs": []
    },
    {
      "cell_type": "code",
      "metadata": {
        "id": "pclTexjr4et9",
        "colab_type": "code",
        "colab": {}
      },
      "source": [
        "lbls_train=[]\n",
        "snrs_train=[]\n",
        "for i in range(len(labels_train)):\n",
        "  lbls_train.append(labels_train[i][0])\n",
        "  snrs_train.append(labels_train[i][1])\n",
        "\n",
        "lbls_test=[]\n",
        "snrs_test=[]\n",
        "for i in range(len(labels_test)):\n",
        "  lbls_test.append(labels_test[i][0])\n",
        "  snrs_test.append(labels_test[i][1])\n",
        "\n",
        "lbls_test = np.array(lbls_test)\n",
        "snrs_test = np.array(snrs_test)"
      ],
      "execution_count": null,
      "outputs": []
    },
    {
      "cell_type": "markdown",
      "metadata": {
        "id": "0gSTZ8CWVRBH",
        "colab_type": "text"
      },
      "source": [
        "**Random Forest Classifier**"
      ]
    },
    {
      "cell_type": "code",
      "metadata": {
        "id": "qfVu0lnpVVli",
        "colab_type": "code",
        "colab": {
          "base_uri": "https://localhost:8080/",
          "height": 151
        },
        "outputId": "c536ac2c-b3f7-415f-fd68-e2113f722303"
      },
      "source": [
        "lb = preprocessing.LabelBinarizer()\n",
        "lb.fit(lbls_train)\n",
        "\n",
        "clf=RandomForestClassifier()\n",
        "clf.fit(resized_data_train,lb.transform(lbls_train))"
      ],
      "execution_count": null,
      "outputs": [
        {
          "output_type": "execute_result",
          "data": {
            "text/plain": [
              "RandomForestClassifier(bootstrap=True, ccp_alpha=0.0, class_weight=None,\n",
              "                       criterion='gini', max_depth=None, max_features='auto',\n",
              "                       max_leaf_nodes=None, max_samples=None,\n",
              "                       min_impurity_decrease=0.0, min_impurity_split=None,\n",
              "                       min_samples_leaf=1, min_samples_split=2,\n",
              "                       min_weight_fraction_leaf=0.0, n_estimators=100,\n",
              "                       n_jobs=None, oob_score=False, random_state=None,\n",
              "                       verbose=0, warm_start=False)"
            ]
          },
          "metadata": {
            "tags": []
          },
          "execution_count": 11
        }
      ]
    },
    {
      "cell_type": "code",
      "metadata": {
        "id": "kUhZUJQ-Vvsn",
        "colab_type": "code",
        "colab": {}
      },
      "source": [
        "accuracy = []\n",
        "for snr in snrs:\n",
        "  data_test_snr=resized_data_test[np.where(snrs_test==snr)]\n",
        "  mod_test_snr=lbls_test[np.where(snrs_test==snr)]\n",
        "  score = clf.score(data_test_snr , lb.transform(mod_test_snr))\n",
        "  accuracy.append(score)\n",
        "  print(score)\n",
        "\n",
        "plt.plot(snrs,accuracy)\n",
        "plt.xlabel('SNR in db')\n",
        "plt.ylabel('Accuracy')\n",
        "plt.title(\"Accuracy / SNR\")\n",
        "plt.show()\n",
        "print(\"Average Accuracy = \",np.mean(accuracy))\n"
      ],
      "execution_count": null,
      "outputs": []
    },
    {
      "cell_type": "markdown",
      "metadata": {
        "id": "bxy7i2Be62zg",
        "colab_type": "text"
      },
      "source": [
        "**Decision Tree**"
      ]
    },
    {
      "cell_type": "code",
      "metadata": {
        "id": "UCirb4Xk651S",
        "colab_type": "code",
        "colab": {}
      },
      "source": [
        "lb = preprocessing.LabelBinarizer()\n",
        "lb.fit(lbls_train)\n",
        "clf = DecisionTreeClassifier(random_state=0)\n",
        "clf.fit(resized_data_train,lb.transform(lbls_train))"
      ],
      "execution_count": null,
      "outputs": []
    },
    {
      "cell_type": "code",
      "metadata": {
        "id": "q4IvyUbG66hj",
        "colab_type": "code",
        "colab": {}
      },
      "source": [
        "accuracy = []\n",
        "for snr in snrs:\n",
        "  print(snr)\n",
        "  data_test_snr=resized_data_test[np.where(snrs_test==snr)]\n",
        "  mod_test_snr=lbls_test[np.where(snrs_test==snr)]\n",
        "  score = clf.score(data_test_snr , lb.transform(mod_test_snr))\n",
        "  print(score)\n",
        "  accuracy.append(score)\n",
        "\n",
        "plt.plot(snrs,accuracy)\n",
        "plt.xlabel('SNR in db')\n",
        "plt.ylabel('Accuracy')\n",
        "plt.title(\"Accuracy / SNR\")\n",
        "plt.show()\n",
        "print(\"Average Accuracy = \",np.mean(accuracy))"
      ],
      "execution_count": null,
      "outputs": []
    },
    {
      "cell_type": "markdown",
      "metadata": {
        "id": "W13Epv4j52Nf",
        "colab_type": "text"
      },
      "source": [
        "**Logistic Regression**"
      ]
    },
    {
      "cell_type": "code",
      "metadata": {
        "id": "ZwdPd53257YG",
        "colab_type": "code",
        "colab": {}
      },
      "source": [
        "logisticRegr = LogisticRegression()\n",
        "logisticRegr.fit(resized_data_train, lbls_train)"
      ],
      "execution_count": null,
      "outputs": []
    },
    {
      "cell_type": "code",
      "metadata": {
        "id": "A7OdkThz561M",
        "colab_type": "code",
        "colab": {}
      },
      "source": [
        "accuracy = []\n",
        "for snr in snrs:\n",
        "  print (snr)\n",
        "  data_test_snr=resized_data_test[np.where(snrs_test==snr)]\n",
        "  mod_test_snr=lbls_test[np.where(snrs_test==snr)]\n",
        "  score = logisticRegr.score(data_test_snr , mod_test_snr)\n",
        "  accuracy.append(score)\n",
        "  print(score)\n",
        "\n",
        "plt.plot(snrs,accuracy)\n",
        "plt.xlabel('SNR in db')\n",
        "plt.ylabel('Accuracy')\n",
        "plt.title(\"Accuracy / SNR\")\n",
        "plt.show()\n",
        "print(\"Average Accuracy = \",np.mean(accuracy))"
      ],
      "execution_count": null,
      "outputs": []
    },
    {
      "cell_type": "markdown",
      "metadata": {
        "id": "fMB2RAKyWDJ_",
        "colab_type": "text"
      },
      "source": [
        "# **Integral**"
      ]
    },
    {
      "cell_type": "code",
      "metadata": {
        "id": "QZ7t4g05Vy6M",
        "colab_type": "code",
        "colab": {}
      },
      "source": [
        "labels_train_validate , labels_test , data_train_validate , data_test = train_test_split(labels,integration,test_size=0.3,random_state=42)\n",
        "labels_train , labels_validate , data_train , data_validate = train_test_split(labels_train_validate,data_train_validate,test_size=0.05,random_state=42)\n",
        "\n",
        "resized_data_train= data_train.reshape(798000,2*128)\n",
        "resized_data_test=data_test.reshape(360000,2*128)"
      ],
      "execution_count": null,
      "outputs": []
    },
    {
      "cell_type": "code",
      "metadata": {
        "id": "afMygOIA6fWy",
        "colab_type": "code",
        "colab": {}
      },
      "source": [
        "lbls_train=[]\n",
        "snrs_train=[]\n",
        "for i in range(len(labels_train)):\n",
        "  lbls_train.append(labels_train[i][0])\n",
        "  snrs_train.append(labels_train[i][1])\n",
        "\n",
        "lbls_test=[]\n",
        "snrs_test=[]\n",
        "for i in range(len(labels_test)):\n",
        "  lbls_test.append(labels_test[i][0])\n",
        "  snrs_test.append(labels_test[i][1])\n",
        "\n",
        "lbls_test = np.array(lbls_test)\n",
        "snrs_test = np.array(snrs_test)"
      ],
      "execution_count": null,
      "outputs": []
    },
    {
      "cell_type": "markdown",
      "metadata": {
        "id": "bwNlc3lc6f-5",
        "colab_type": "text"
      },
      "source": [
        "**Random Forest**"
      ]
    },
    {
      "cell_type": "code",
      "metadata": {
        "id": "CNAu2NeGWGDE",
        "colab_type": "code",
        "colab": {}
      },
      "source": [
        "lb = preprocessing.LabelBinarizer()\n",
        "lb.fit(lbls_train)\n",
        "\n",
        "clf=RandomForestClassifier()\n",
        "clf.fit(resized_data_train,lb.transform(lbls_train))"
      ],
      "execution_count": null,
      "outputs": []
    },
    {
      "cell_type": "code",
      "metadata": {
        "id": "kuyveJ63WJ0n",
        "colab_type": "code",
        "colab": {}
      },
      "source": [
        "accuracy = []\n",
        "for snr in snrs:\n",
        "  data_test_snr=resized_data_test[np.where(snrs_test==snr)]\n",
        "  mod_test_snr=lbls_test[np.where(snrs_test==snr)]\n",
        "  score = clf.score(data_test_snr , lb.transform(mod_test_snr))\n",
        "  accuracy.append(score)\n",
        "  print(score)\n",
        "\n",
        "plt.plot(snrs,accuracy)\n",
        "plt.xlabel('SNR in db')\n",
        "plt.ylabel('Accuracy')\n",
        "plt.title(\"Accuracy / SNR\")\n",
        "plt.show()\n",
        "print(\"Average Accuracy = \",np.mean(accuracy))\n"
      ],
      "execution_count": null,
      "outputs": []
    },
    {
      "cell_type": "markdown",
      "metadata": {
        "id": "aMiejR9N6QG_",
        "colab_type": "text"
      },
      "source": [
        "**Logistic Regression**"
      ]
    },
    {
      "cell_type": "code",
      "metadata": {
        "id": "BnRAPAW_6QxQ",
        "colab_type": "code",
        "colab": {}
      },
      "source": [
        "logisticRegr = LogisticRegression()\n",
        "logisticRegr.fit(resized_data_train, lbls_train)"
      ],
      "execution_count": null,
      "outputs": []
    },
    {
      "cell_type": "code",
      "metadata": {
        "id": "TK3G9-cc6RF4",
        "colab_type": "code",
        "colab": {}
      },
      "source": [
        "accuracy = []\n",
        "for snr in snrs:\n",
        "  print (snr)\n",
        "  data_test_snr=resized_data_test[np.where(snrs_test==snr)]\n",
        "  mod_test_snr=lbls_test[np.where(snrs_test==snr)]\n",
        "  score = logisticRegr.score(data_test_snr , mod_test_snr)\n",
        "  accuracy.append(score)\n",
        "  print(score)\n",
        "\n",
        "plt.plot(snrs,accuracy)\n",
        "plt.xlabel('SNR in db')\n",
        "plt.ylabel('Accuracy')\n",
        "plt.title(\"Accuracy / SNR\")\n",
        "plt.show()\n",
        "print(\"Average Accuracy = \",np.mean(accuracy))"
      ],
      "execution_count": null,
      "outputs": []
    },
    {
      "cell_type": "markdown",
      "metadata": {
        "id": "1eXkTOdc7KBH",
        "colab_type": "text"
      },
      "source": [
        "**Decision Tree**"
      ]
    },
    {
      "cell_type": "code",
      "metadata": {
        "id": "qK5ykcdF7Ped",
        "colab_type": "code",
        "colab": {}
      },
      "source": [
        "lb = preprocessing.LabelBinarizer()\n",
        "lb.fit(lbls_train)\n",
        "clf = DecisionTreeClassifier(random_state=0)\n",
        "clf.fit(resized_data_train,lb.transform(lbls_train))"
      ],
      "execution_count": null,
      "outputs": []
    },
    {
      "cell_type": "code",
      "metadata": {
        "id": "OUyiaMXC7P6k",
        "colab_type": "code",
        "colab": {}
      },
      "source": [
        "accuracy = []\n",
        "for snr in snrs:\n",
        "  print(snr)\n",
        "  data_test_snr=resized_data_test[np.where(snrs_test==snr)]\n",
        "  mod_test_snr=lbls_test[np.where(snrs_test==snr)]\n",
        "  score = clf.score(data_test_snr , lb.transform(mod_test_snr))\n",
        "  print(score)\n",
        "  accuracy.append(score)\n",
        "\n",
        "plt.plot(snrs,accuracy)\n",
        "plt.xlabel('SNR in db')\n",
        "plt.ylabel('Accuracy')\n",
        "plt.title(\"Accuracy / SNR\")\n",
        "plt.show()\n",
        "print(\"Average Accuracy = \",np.mean(accuracy))"
      ],
      "execution_count": null,
      "outputs": []
    },
    {
      "cell_type": "markdown",
      "metadata": {
        "id": "S4cryNyDUKqr",
        "colab_type": "text"
      },
      "source": [
        "# **Combination**"
      ]
    },
    {
      "cell_type": "code",
      "metadata": {
        "id": "v1JPl8t-Uqp4",
        "colab_type": "code",
        "colab": {}
      },
      "source": [
        "combination = np.concatenate((dataset, derivative,integration), axis=1)\n",
        "labels_train_validate , labels_test , data_train_validate , data_test = train_test_split(labels,combination,test_size=0.3,random_state=42)\n",
        "labels_train , labels_validate , data_train , data_validate = train_test_split(labels_train_validate,data_train_validate,test_size=0.05,random_state=42)\n",
        "\n",
        "resized_data_train= data_train.reshape(798000,6*128)\n",
        "resized_data_test=data_test.reshape(360000,6*128)"
      ],
      "execution_count": null,
      "outputs": []
    },
    {
      "cell_type": "code",
      "metadata": {
        "id": "keYaM8cqVsCT",
        "colab_type": "code",
        "colab": {}
      },
      "source": [
        "lbls_train=[]\n",
        "snrs_train=[]\n",
        "for i in range(len(labels_train)):\n",
        "  lbls_train.append(labels_train[i][0])\n",
        "  snrs_train.append(labels_train[i][1])\n",
        "\n",
        "lbls_test=[]\n",
        "snrs_test=[]\n",
        "for i in range(len(labels_test)):\n",
        "  lbls_test.append(labels_test[i][0])\n",
        "  snrs_test.append(labels_test[i][1])\n",
        "\n",
        "lbls_test = np.array(lbls_test)\n",
        "snrs_test = np.array(snrs_test)"
      ],
      "execution_count": null,
      "outputs": []
    },
    {
      "cell_type": "markdown",
      "metadata": {
        "id": "cfawuF80UTGE",
        "colab_type": "text"
      },
      "source": [
        "** Logistic Regression**"
      ]
    },
    {
      "cell_type": "code",
      "metadata": {
        "id": "b_uqvsJvUiR0",
        "colab_type": "code",
        "colab": {}
      },
      "source": [
        "logisticRegr = LogisticRegression()\n",
        "logisticRegr.fit(resized_data_train, lbls_train)"
      ],
      "execution_count": null,
      "outputs": []
    },
    {
      "cell_type": "code",
      "metadata": {
        "id": "jgfsvXnjUiD0",
        "colab_type": "code",
        "colab": {}
      },
      "source": [
        "accuracy = []\n",
        "for snr in snrs:\n",
        "  print (snr)\n",
        "  data_test_snr=resized_data_test[np.where(snrs_test==snr)]\n",
        "  mod_test_snr=lbls_test[np.where(snrs_test==snr)]\n",
        "  score = logisticRegr.score(data_test_snr , mod_test_snr)\n",
        "  accuracy.append(score)\n",
        "  print(score)\n",
        "\n",
        "plt.plot(snrs,accuracy)\n",
        "plt.xlabel('SNR in db')\n",
        "plt.ylabel('Accuracy')\n",
        "plt.title(\"Accuracy / SNR\")\n",
        "plt.show()\n",
        "print(\"Average Accuracy = \",np.mean(accuracy))"
      ],
      "execution_count": null,
      "outputs": []
    },
    {
      "cell_type": "markdown",
      "metadata": {
        "id": "pGloMYEjUXoh",
        "colab_type": "text"
      },
      "source": [
        "**Decision Tree**"
      ]
    },
    {
      "cell_type": "code",
      "metadata": {
        "id": "Grz6V4ZJV80I",
        "colab_type": "code",
        "colab": {}
      },
      "source": [
        "lb = preprocessing.LabelBinarizer()\n",
        "lb.fit(lbls_train)\n",
        "clf = DecisionTreeClassifier(random_state=0)\n",
        "clf.fit(resized_data_train,lb.transform(lbls_train))"
      ],
      "execution_count": null,
      "outputs": []
    },
    {
      "cell_type": "code",
      "metadata": {
        "id": "fuFi-3l-V8li",
        "colab_type": "code",
        "colab": {}
      },
      "source": [
        "accuracy = []\n",
        "for snr in snrs:\n",
        "  print(snr)\n",
        "  data_test_snr=resized_data_test[np.where(snrs_test==snr)]\n",
        "  mod_test_snr=lbls_test[np.where(snrs_test==snr)]\n",
        "  score = clf.score(data_test_snr , lb.transform(mod_test_snr))\n",
        "  print(score)\n",
        "  accuracy.append(score)\n",
        "\n",
        "plt.plot(snrs,accuracy)\n",
        "plt.xlabel('SNR in db')\n",
        "plt.ylabel('Accuracy')\n",
        "plt.title(\"Accuracy / SNR\")\n",
        "plt.show()\n",
        "print(\"Average Accuracy = \",np.mean(accuracy))"
      ],
      "execution_count": null,
      "outputs": []
    },
    {
      "cell_type": "markdown",
      "metadata": {
        "id": "5iNH86Z1UfA4",
        "colab_type": "text"
      },
      "source": [
        "**Random Forest**"
      ]
    },
    {
      "cell_type": "code",
      "metadata": {
        "id": "cVT2_5AUV9eg",
        "colab_type": "code",
        "colab": {
          "base_uri": "https://localhost:8080/",
          "height": 151
        },
        "outputId": "9f0d7740-5abd-4d05-ad8a-2b1f507d8b65"
      },
      "source": [
        "lb = preprocessing.LabelBinarizer()\n",
        "lb.fit(lbls_train)\n",
        "\n",
        "clf=RandomForestClassifier()\n",
        "clf.fit(resized_data_train,lb.transform(lbls_train))"
      ],
      "execution_count": null,
      "outputs": [
        {
          "output_type": "execute_result",
          "data": {
            "text/plain": [
              "RandomForestClassifier(bootstrap=True, ccp_alpha=0.0, class_weight=None,\n",
              "                       criterion='gini', max_depth=None, max_features='auto',\n",
              "                       max_leaf_nodes=None, max_samples=None,\n",
              "                       min_impurity_decrease=0.0, min_impurity_split=None,\n",
              "                       min_samples_leaf=1, min_samples_split=2,\n",
              "                       min_weight_fraction_leaf=0.0, n_estimators=100,\n",
              "                       n_jobs=None, oob_score=False, random_state=None,\n",
              "                       verbose=0, warm_start=False)"
            ]
          },
          "metadata": {
            "tags": []
          },
          "execution_count": 10
        }
      ]
    },
    {
      "cell_type": "code",
      "metadata": {
        "id": "kziAsz70USq4",
        "colab_type": "code",
        "colab": {
          "base_uri": "https://localhost:8080/",
          "height": 648
        },
        "outputId": "3db9f7e6-c4ee-40fa-91d3-4a739b1534a0"
      },
      "source": [
        "accuracy = []\n",
        "for snr in snrs:\n",
        "  data_test_snr=resized_data_test[np.where(snrs_test==snr)]\n",
        "  mod_test_snr=lbls_test[np.where(snrs_test==snr)]\n",
        "  score = clf.score(data_test_snr , lb.transform(mod_test_snr))\n",
        "  accuracy.append(score)\n",
        "  print(score)\n",
        "\n",
        "plt.plot(snrs,accuracy)\n",
        "plt.xlabel('SNR in db')\n",
        "plt.ylabel('Accuracy')\n",
        "plt.title(\"Accuracy / SNR\")\n",
        "plt.show()\n",
        "print(\"Average Accuracy = \",np.mean(accuracy))\n"
      ],
      "execution_count": null,
      "outputs": [
        {
          "output_type": "stream",
          "text": [
            "0.0\n",
            "0.0\n",
            "0.0\n",
            "0.0\n",
            "5.5487737210076573e-05\n",
            "0.00038550501156515033\n",
            "0.002296275553066368\n",
            "0.007856904045469742\n",
            "0.03706791152606424\n",
            "0.08191886025933552\n",
            "0.1643843211177025\n",
            "0.23229571984435798\n",
            "0.3015757711220384\n",
            "0.3606942889137738\n",
            "0.3974330481164574\n",
            "0.4248128700703832\n",
            "0.42730496453900707\n",
            "0.4273946680024489\n",
            "0.42428969359331475\n",
            "0.42966369327940607\n"
          ],
          "name": "stdout"
        },
        {
          "output_type": "display_data",
          "data": {
            "image/png": "[encoded data removed]",
            "text/plain": [
              "<Figure size 432x288 with 1 Axes>"
            ]
          },
          "metadata": {
            "tags": [],
            "needs_background": "light"
          }
        },
        {
          "output_type": "stream",
          "text": [
            "Average Accuracy =  0.18597149913658007\n"
          ],
          "name": "stdout"
        }
      ]
    },
    {
      "cell_type": "markdown",
      "metadata": {
        "id": "QPNIMl1XeXFc",
        "colab_type": "text"
      },
      "source": [
        "# **CNN**"
      ]
    },
    {
      "cell_type": "code",
      "metadata": {
        "id": "XbKl8iHveZH7",
        "colab_type": "code",
        "colab": {
          "base_uri": "https://localhost:8080/",
          "height": 34
        },
        "outputId": "4dfface0-311e-440a-8e83-90d8425a1d7f"
      },
      "source": [
        "from keras.models import Sequential\n",
        "from keras.layers.core import Dense, Dropout, Activation, Flatten,Reshape\n",
        "from keras.layers.convolutional import Convolution2D, MaxPooling2D,ZeroPadding2D\n",
        "from keras.layers import Conv2D\n",
        "import tensorflow as tf\n"
      ],
      "execution_count": null,
      "outputs": [
        {
          "output_type": "stream",
          "text": [
            "Using TensorFlow backend.\n"
          ],
          "name": "stderr"
        }
      ]
    },
    {
      "cell_type": "markdown",
      "metadata": {
        "id": "HtNmMx-eMGuR",
        "colab_type": "text"
      },
      "source": [
        "**Raw Time**"
      ]
    },
    {
      "cell_type": "code",
      "metadata": {
        "id": "ZgSo188WBvFW",
        "colab_type": "code",
        "colab": {
          "base_uri": "https://localhost:8080/",
          "height": 386
        },
        "outputId": "62ea988a-4e8a-4003-eee6-a14b809a2c43"
      },
      "source": [
        "model = Sequential()\n",
        "model.add(Reshape((1,2,128),input_shape=(2,128)))\n",
        "model.add(Conv2D(64,(1,3), activation = \"relu\",padding=\"same\"))\n",
        "model.add(ZeroPadding2D(padding=(1,1)))\n",
        "model.add(Conv2D(16, (2, 3), activation='relu',padding=\"same\"))\n",
        "model.add(Flatten())\n",
        "model.add(Dense(128, activation='relu'))\n",
        "model.add(Dense(10, activation='softmax'))\n",
        "model.summary()"
      ],
      "execution_count": null,
      "outputs": [
        {
          "output_type": "stream",
          "text": [
            "Model: \"sequential_1\"\n",
            "_________________________________________________________________\n",
            "Layer (type)                 Output Shape              Param #   \n",
            "=================================================================\n",
            "reshape_1 (Reshape)          (None, 1, 2, 128)         0         \n",
            "_________________________________________________________________\n",
            "conv2d_1 (Conv2D)            (None, 1, 2, 64)          24640     \n",
            "_________________________________________________________________\n",
            "zero_padding2d_1 (ZeroPaddin (None, 3, 4, 64)          0         \n",
            "_________________________________________________________________\n",
            "conv2d_2 (Conv2D)            (None, 3, 4, 16)          6160      \n",
            "_________________________________________________________________\n",
            "flatten_1 (Flatten)          (None, 192)               0         \n",
            "_________________________________________________________________\n",
            "dense_1 (Dense)              (None, 128)               24704     \n",
            "_________________________________________________________________\n",
            "dense_2 (Dense)              (None, 10)                1290      \n",
            "=================================================================\n",
            "Total params: 56,794\n",
            "Trainable params: 56,794\n",
            "Non-trainable params: 0\n",
            "_________________________________________________________________\n"
          ],
          "name": "stdout"
        }
      ]
    },
    {
      "cell_type": "code",
      "metadata": {
        "id": "aoeSDX_2BxUY",
        "colab_type": "code",
        "colab": {
          "base_uri": "https://localhost:8080/",
          "height": 134
        },
        "outputId": "0e11251e-2060-4af6-f678-5f289261bac0"
      },
      "source": [
        "le = preprocessing.LabelBinarizer()\n",
        "le.fit(mods)\n",
        "print(le.transform(lbls_train))"
      ],
      "execution_count": null,
      "outputs": [
        {
          "output_type": "stream",
          "text": [
            "[[0 0 0 ... 1 0 0]\n",
            " [0 0 0 ... 0 0 1]\n",
            " [0 0 1 ... 0 0 0]\n",
            " ...\n",
            " [0 0 1 ... 0 0 0]\n",
            " [0 0 0 ... 0 1 0]\n",
            " [0 0 0 ... 0 0 0]]\n"
          ],
          "name": "stdout"
        }
      ]
    },
    {
      "cell_type": "code",
      "metadata": {
        "id": "9-GF2nN_B2a8",
        "colab_type": "code",
        "colab": {
          "base_uri": "https://localhost:8080/",
          "height": 1000
        },
        "outputId": "9916d4ac-57a9-4677-d86b-08b2ad1b4e25"
      },
      "source": [
        "#model.compile(optimizer='adam',loss='mean_absolute_percentage_error',metrics=['accuracy'])\n",
        "model.compile(optimizer='adam',loss='categorical_crossentropy',metrics=['accuracy'])\n",
        "\n",
        "data_validate=np.array(data_validate)\n",
        "snrs_val=np.array(snrs_val)\n",
        "lbls_val=np.array(lbls_val)\n",
        "history=[]\n",
        "data_train=np.array(data_train)\n",
        "snrs_train=np.array(snrs_train)\n",
        "lbls_train=np.array(lbls_train)\n",
        "for snr in snrs:\n",
        "  print (snr)\n",
        "  data_train_snr=data_train[np.where(snrs_train==snr)]\n",
        "  mod_test_snr=lbls_train[np.where(snrs_train==snr)]\n",
        "  data_val_snr=data_validate[np.where(snrs_val==snr)]\n",
        "  mod_val_snr=lbls_val[np.where(snrs_val==snr)]\n",
        "  print(data_train_snr.shape,le.transform(mod_test_snr).shape,data_val_snr.shape,le.transform(mod_val_snr).shape)\n",
        "  history.append(model.fit(data_train_snr,le.transform(mod_test_snr),epochs=20,batch_size=64,validation_data=(data_val_snr,le.transform(mod_val_snr))))"
      ],
      "execution_count": null,
      "outputs": [
        {
          "output_type": "stream",
          "text": [
            "-20\n",
            "(39907, 2, 128) (39907, 10) (2087, 2, 128) (2087, 10)\n",
            "Train on 39907 samples, validate on 2087 samples\n",
            "Epoch 1/20\n",
            "39907/39907 [==============================] - 3s 84us/step - loss: 2.3027 - accuracy: 0.0988 - val_loss: 2.3032 - val_accuracy: 0.0954\n",
            "Epoch 2/20\n",
            "39907/39907 [==============================] - 4s 104us/step - loss: 2.3027 - accuracy: 0.0990 - val_loss: 2.3031 - val_accuracy: 0.1035\n",
            "Epoch 3/20\n",
            "39907/39907 [==============================] - 4s 97us/step - loss: 2.3027 - accuracy: 0.1003 - val_loss: 2.3033 - val_accuracy: 0.1035\n",
            "Epoch 4/20\n",
            "39907/39907 [==============================] - 3s 78us/step - loss: 2.3027 - accuracy: 0.0998 - val_loss: 2.3029 - val_accuracy: 0.1035\n",
            "Epoch 5/20\n",
            "39907/39907 [==============================] - 3s 75us/step - loss: 2.3027 - accuracy: 0.1000 - val_loss: 2.3031 - val_accuracy: 0.0896\n",
            "Epoch 6/20\n",
            "39907/39907 [==============================] - 3s 74us/step - loss: 2.3027 - accuracy: 0.1009 - val_loss: 2.3030 - val_accuracy: 0.0954\n",
            "Epoch 7/20\n",
            "39907/39907 [==============================] - 3s 74us/step - loss: 2.3027 - accuracy: 0.0976 - val_loss: 2.3030 - val_accuracy: 0.1035\n",
            "Epoch 8/20\n",
            "39907/39907 [==============================] - 3s 75us/step - loss: 2.3026 - accuracy: 0.1010 - val_loss: 2.3029 - val_accuracy: 0.1035\n",
            "Epoch 9/20\n",
            "39907/39907 [==============================] - 3s 75us/step - loss: 2.3027 - accuracy: 0.1000 - val_loss: 2.3030 - val_accuracy: 0.1035\n",
            "Epoch 10/20\n",
            "39907/39907 [==============================] - 3s 73us/step - loss: 2.3026 - accuracy: 0.0983 - val_loss: 2.3031 - val_accuracy: 0.1035\n",
            "Epoch 11/20\n",
            "39907/39907 [==============================] - 3s 75us/step - loss: 2.3027 - accuracy: 0.0996 - val_loss: 2.3031 - val_accuracy: 0.1035\n",
            "Epoch 12/20\n",
            "39907/39907 [==============================] - 3s 74us/step - loss: 2.3026 - accuracy: 0.1007 - val_loss: 2.3030 - val_accuracy: 0.0954\n",
            "Epoch 13/20\n",
            "39907/39907 [==============================] - 3s 75us/step - loss: 2.3026 - accuracy: 0.1004 - val_loss: 2.3031 - val_accuracy: 0.0954\n",
            "Epoch 14/20\n",
            "39907/39907 [==============================] - 3s 76us/step - loss: 2.3027 - accuracy: 0.0993 - val_loss: 2.3032 - val_accuracy: 0.0954\n",
            "Epoch 15/20\n",
            "39907/39907 [==============================] - 3s 74us/step - loss: 2.3027 - accuracy: 0.1027 - val_loss: 2.3031 - val_accuracy: 0.0896\n",
            "Epoch 16/20\n",
            "39907/39907 [==============================] - 3s 75us/step - loss: 2.3027 - accuracy: 0.0999 - val_loss: 2.3030 - val_accuracy: 0.0954\n",
            "Epoch 17/20\n",
            "39907/39907 [==============================] - 3s 75us/step - loss: 2.3026 - accuracy: 0.0990 - val_loss: 2.3029 - val_accuracy: 0.0954\n",
            "Epoch 18/20\n",
            "39907/39907 [==============================] - 3s 75us/step - loss: 2.3027 - accuracy: 0.0987 - val_loss: 2.3029 - val_accuracy: 0.0954\n",
            "Epoch 19/20\n",
            "39907/39907 [==============================] - 3s 74us/step - loss: 2.3027 - accuracy: 0.1008 - val_loss: 2.3031 - val_accuracy: 0.0954\n",
            "Epoch 20/20\n",
            "39907/39907 [==============================] - 3s 74us/step - loss: 2.3027 - accuracy: 0.1001 - val_loss: 2.3031 - val_accuracy: 0.0954\n",
            "-18\n",
            "(39837, 2, 128) (39837, 10) (2097, 2, 128) (2097, 10)\n",
            "Train on 39837 samples, validate on 2097 samples\n",
            "Epoch 1/20\n",
            "39837/39837 [==============================] - 3s 65us/step - loss: 2.3027 - accuracy: 0.0992 - val_loss: 2.3023 - val_accuracy: 0.1025\n",
            "Epoch 2/20\n",
            "39837/39837 [==============================] - 3s 66us/step - loss: 2.3027 - accuracy: 0.0988 - val_loss: 2.3024 - val_accuracy: 0.1092\n",
            "Epoch 3/20\n",
            "39837/39837 [==============================] - 3s 66us/step - loss: 2.3027 - accuracy: 0.1016 - val_loss: 2.3025 - val_accuracy: 0.1001\n",
            "Epoch 4/20\n",
            "39837/39837 [==============================] - 3s 66us/step - loss: 2.3027 - accuracy: 0.0987 - val_loss: 2.3025 - val_accuracy: 0.1092\n",
            "Epoch 5/20\n",
            "39837/39837 [==============================] - 3s 65us/step - loss: 2.3027 - accuracy: 0.0999 - val_loss: 2.3024 - val_accuracy: 0.1001\n",
            "Epoch 6/20\n",
            "39837/39837 [==============================] - 3s 65us/step - loss: 2.3027 - accuracy: 0.0993 - val_loss: 2.3025 - val_accuracy: 0.1001\n",
            "Epoch 7/20\n",
            "39837/39837 [==============================] - 3s 64us/step - loss: 2.3027 - accuracy: 0.1002 - val_loss: 2.3024 - val_accuracy: 0.1025\n",
            "Epoch 8/20\n",
            "39837/39837 [==============================] - 3s 65us/step - loss: 2.3027 - accuracy: 0.0968 - val_loss: 2.3024 - val_accuracy: 0.1092\n",
            "Epoch 9/20\n",
            "39837/39837 [==============================] - 3s 65us/step - loss: 2.3027 - accuracy: 0.0982 - val_loss: 2.3022 - val_accuracy: 0.1092\n",
            "Epoch 10/20\n",
            "39837/39837 [==============================] - 3s 64us/step - loss: 2.3027 - accuracy: 0.0992 - val_loss: 2.3025 - val_accuracy: 0.1001\n",
            "Epoch 11/20\n",
            "39837/39837 [==============================] - 3s 68us/step - loss: 2.3027 - accuracy: 0.0971 - val_loss: 2.3025 - val_accuracy: 0.1001\n",
            "Epoch 12/20\n",
            "39837/39837 [==============================] - 3s 75us/step - loss: 2.3027 - accuracy: 0.1004 - val_loss: 2.3026 - val_accuracy: 0.1092\n",
            "Epoch 13/20\n",
            "39837/39837 [==============================] - 3s 75us/step - loss: 2.3027 - accuracy: 0.0979 - val_loss: 2.3022 - val_accuracy: 0.1092\n",
            "Epoch 14/20\n",
            "39837/39837 [==============================] - 3s 76us/step - loss: 2.3027 - accuracy: 0.0986 - val_loss: 2.3025 - val_accuracy: 0.0987\n",
            "Epoch 15/20\n",
            "39837/39837 [==============================] - 3s 69us/step - loss: 2.3027 - accuracy: 0.0984 - val_loss: 2.3024 - val_accuracy: 0.0920\n",
            "Epoch 16/20\n",
            "39837/39837 [==============================] - 3s 67us/step - loss: 2.3027 - accuracy: 0.0986 - val_loss: 2.3022 - val_accuracy: 0.1044\n",
            "Epoch 17/20\n",
            "39837/39837 [==============================] - 3s 67us/step - loss: 2.3027 - accuracy: 0.1008 - val_loss: 2.3024 - val_accuracy: 0.1092\n",
            "Epoch 18/20\n",
            "39837/39837 [==============================] - 3s 68us/step - loss: 2.3027 - accuracy: 0.1013 - val_loss: 2.3024 - val_accuracy: 0.1001\n",
            "Epoch 19/20\n",
            "39837/39837 [==============================] - 3s 67us/step - loss: 2.3027 - accuracy: 0.1004 - val_loss: 2.3023 - val_accuracy: 0.1092\n",
            "Epoch 20/20\n",
            "39837/39837 [==============================] - 3s 67us/step - loss: 2.3027 - accuracy: 0.0998 - val_loss: 2.3024 - val_accuracy: 0.1001\n",
            "-16\n",
            "(39763, 2, 128) (39763, 10) (2075, 2, 128) (2075, 10)\n",
            "Train on 39763 samples, validate on 2075 samples\n",
            "Epoch 1/20\n",
            "39763/39763 [==============================] - 3s 77us/step - loss: 2.3027 - accuracy: 0.0984 - val_loss: 2.3028 - val_accuracy: 0.1027\n",
            "Epoch 2/20\n",
            "39763/39763 [==============================] - 3s 77us/step - loss: 2.3027 - accuracy: 0.0989 - val_loss: 2.3030 - val_accuracy: 0.1027\n",
            "Epoch 3/20\n",
            "39763/39763 [==============================] - 3s 78us/step - loss: 2.3027 - accuracy: 0.0996 - val_loss: 2.3029 - val_accuracy: 0.1027\n",
            "Epoch 4/20\n",
            "39763/39763 [==============================] - 3s 78us/step - loss: 2.3027 - accuracy: 0.1001 - val_loss: 2.3028 - val_accuracy: 0.1027\n",
            "Epoch 5/20\n",
            "39763/39763 [==============================] - 3s 76us/step - loss: 2.3027 - accuracy: 0.1006 - val_loss: 2.3032 - val_accuracy: 0.1027\n",
            "Epoch 6/20\n",
            "39763/39763 [==============================] - 3s 74us/step - loss: 2.3027 - accuracy: 0.0998 - val_loss: 2.3028 - val_accuracy: 0.1027\n",
            "Epoch 7/20\n",
            "39763/39763 [==============================] - 3s 74us/step - loss: 2.3027 - accuracy: 0.1000 - val_loss: 2.3030 - val_accuracy: 0.0906\n",
            "Epoch 8/20\n",
            "39763/39763 [==============================] - 3s 73us/step - loss: 2.3027 - accuracy: 0.1003 - val_loss: 2.3028 - val_accuracy: 0.1027\n",
            "Epoch 9/20\n",
            "39763/39763 [==============================] - 3s 73us/step - loss: 2.3027 - accuracy: 0.0973 - val_loss: 2.3031 - val_accuracy: 0.1027\n",
            "Epoch 10/20\n",
            "39763/39763 [==============================] - 3s 73us/step - loss: 2.3027 - accuracy: 0.1002 - val_loss: 2.3031 - val_accuracy: 0.1027\n",
            "Epoch 11/20\n",
            "39763/39763 [==============================] - 3s 74us/step - loss: 2.3027 - accuracy: 0.0979 - val_loss: 2.3032 - val_accuracy: 0.1027\n",
            "Epoch 12/20\n",
            "39763/39763 [==============================] - 3s 74us/step - loss: 2.3027 - accuracy: 0.1001 - val_loss: 2.3031 - val_accuracy: 0.0993\n",
            "Epoch 13/20\n",
            "39763/39763 [==============================] - 3s 72us/step - loss: 2.3027 - accuracy: 0.0985 - val_loss: 2.3030 - val_accuracy: 0.0993\n",
            "Epoch 14/20\n",
            "39763/39763 [==============================] - 3s 73us/step - loss: 2.3027 - accuracy: 0.1005 - val_loss: 2.3032 - val_accuracy: 0.1027\n",
            "Epoch 15/20\n",
            "39763/39763 [==============================] - 3s 72us/step - loss: 2.3027 - accuracy: 0.1002 - val_loss: 2.3031 - val_accuracy: 0.0945\n",
            "Epoch 16/20\n",
            "39763/39763 [==============================] - 3s 73us/step - loss: 2.3027 - accuracy: 0.0980 - val_loss: 2.3029 - val_accuracy: 0.0945\n",
            "Epoch 17/20\n",
            "39763/39763 [==============================] - 3s 75us/step - loss: 2.3027 - accuracy: 0.1007 - val_loss: 2.3028 - val_accuracy: 0.1027\n",
            "Epoch 18/20\n",
            "39763/39763 [==============================] - 3s 75us/step - loss: 2.3027 - accuracy: 0.1001 - val_loss: 2.3031 - val_accuracy: 0.0993\n",
            "Epoch 19/20\n",
            "39763/39763 [==============================] - 3s 72us/step - loss: 2.3027 - accuracy: 0.1006 - val_loss: 2.3030 - val_accuracy: 0.0906\n",
            "Epoch 20/20\n",
            "39763/39763 [==============================] - 3s 74us/step - loss: 2.3027 - accuracy: 0.0985 - val_loss: 2.3030 - val_accuracy: 0.0993\n",
            "-14\n",
            "(39761, 2, 128) (39761, 10) (2114, 2, 128) (2114, 10)\n",
            "Train on 39761 samples, validate on 2114 samples\n",
            "Epoch 1/20\n",
            "39761/39761 [==============================] - 3s 63us/step - loss: 2.3027 - accuracy: 0.0986 - val_loss: 2.3027 - val_accuracy: 0.1022\n",
            "Epoch 2/20\n",
            "39761/39761 [==============================] - 3s 66us/step - loss: 2.3027 - accuracy: 0.0992 - val_loss: 2.3027 - val_accuracy: 0.1003\n",
            "Epoch 3/20\n",
            "39761/39761 [==============================] - 3s 65us/step - loss: 2.3027 - accuracy: 0.0993 - val_loss: 2.3027 - val_accuracy: 0.1003\n",
            "Epoch 4/20\n",
            "39761/39761 [==============================] - 3s 66us/step - loss: 2.3027 - accuracy: 0.0981 - val_loss: 2.3027 - val_accuracy: 0.1012\n",
            "Epoch 5/20\n",
            "39761/39761 [==============================] - 3s 65us/step - loss: 2.3027 - accuracy: 0.0993 - val_loss: 2.3026 - val_accuracy: 0.1003\n",
            "Epoch 6/20\n",
            "39761/39761 [==============================] - 3s 66us/step - loss: 2.3027 - accuracy: 0.1001 - val_loss: 2.3026 - val_accuracy: 0.1003\n",
            "Epoch 7/20\n",
            "39761/39761 [==============================] - 3s 66us/step - loss: 2.3027 - accuracy: 0.0977 - val_loss: 2.3026 - val_accuracy: 0.0970\n",
            "Epoch 8/20\n",
            "39761/39761 [==============================] - 3s 66us/step - loss: 2.3027 - accuracy: 0.0975 - val_loss: 2.3026 - val_accuracy: 0.1003\n",
            "Epoch 9/20\n",
            "39761/39761 [==============================] - 3s 65us/step - loss: 2.3027 - accuracy: 0.0985 - val_loss: 2.3025 - val_accuracy: 0.1003\n",
            "Epoch 10/20\n",
            "39761/39761 [==============================] - 3s 67us/step - loss: 2.3027 - accuracy: 0.0981 - val_loss: 2.3025 - val_accuracy: 0.1012\n",
            "Epoch 11/20\n",
            "39761/39761 [==============================] - 3s 67us/step - loss: 2.3027 - accuracy: 0.0996 - val_loss: 2.3025 - val_accuracy: 0.1022\n",
            "Epoch 12/20\n",
            "39761/39761 [==============================] - 3s 67us/step - loss: 2.3027 - accuracy: 0.0978 - val_loss: 2.3028 - val_accuracy: 0.0937\n",
            "Epoch 13/20\n",
            "39761/39761 [==============================] - 3s 67us/step - loss: 2.3027 - accuracy: 0.0963 - val_loss: 2.3026 - val_accuracy: 0.0937\n",
            "Epoch 14/20\n",
            "39761/39761 [==============================] - 3s 67us/step - loss: 2.3027 - accuracy: 0.0989 - val_loss: 2.3025 - val_accuracy: 0.1022\n",
            "Epoch 15/20\n",
            "39761/39761 [==============================] - 3s 66us/step - loss: 2.3027 - accuracy: 0.0965 - val_loss: 2.3027 - val_accuracy: 0.0937\n",
            "Epoch 16/20\n",
            "39761/39761 [==============================] - 3s 66us/step - loss: 2.3027 - accuracy: 0.0957 - val_loss: 2.3027 - val_accuracy: 0.0970\n",
            "Epoch 17/20\n",
            "39761/39761 [==============================] - 3s 67us/step - loss: 2.3027 - accuracy: 0.0990 - val_loss: 2.3027 - val_accuracy: 0.1022\n",
            "Epoch 18/20\n",
            "39761/39761 [==============================] - 3s 66us/step - loss: 2.3027 - accuracy: 0.0992 - val_loss: 2.3026 - val_accuracy: 0.1022\n",
            "Epoch 19/20\n",
            "39761/39761 [==============================] - 3s 66us/step - loss: 2.3027 - accuracy: 0.0995 - val_loss: 2.3027 - val_accuracy: 0.1012\n",
            "Epoch 20/20\n",
            "39761/39761 [==============================] - 3s 66us/step - loss: 2.3027 - accuracy: 0.0967 - val_loss: 2.3027 - val_accuracy: 0.1012\n",
            "-12\n",
            "(39923, 2, 128) (39923, 10) (2055, 2, 128) (2055, 10)\n",
            "Train on 39923 samples, validate on 2055 samples\n",
            "Epoch 1/20\n",
            "39923/39923 [==============================] - 3s 76us/step - loss: 2.3027 - accuracy: 0.0969 - val_loss: 2.3033 - val_accuracy: 0.0876\n",
            "Epoch 2/20\n",
            "39923/39923 [==============================] - 3s 76us/step - loss: 2.3027 - accuracy: 0.0999 - val_loss: 2.3030 - val_accuracy: 0.1022\n",
            "Epoch 3/20\n",
            "39923/39923 [==============================] - 3s 73us/step - loss: 2.3027 - accuracy: 0.0972 - val_loss: 2.3033 - val_accuracy: 0.0954\n",
            "Epoch 4/20\n",
            "39923/39923 [==============================] - 3s 74us/step - loss: 2.3027 - accuracy: 0.0971 - val_loss: 2.3030 - val_accuracy: 0.0876\n",
            "Epoch 5/20\n",
            "39923/39923 [==============================] - 3s 73us/step - loss: 2.3027 - accuracy: 0.0983 - val_loss: 2.3033 - val_accuracy: 0.0876\n",
            "Epoch 6/20\n",
            "39923/39923 [==============================] - 3s 72us/step - loss: 2.3027 - accuracy: 0.0989 - val_loss: 2.3029 - val_accuracy: 0.0876\n",
            "Epoch 7/20\n",
            "39923/39923 [==============================] - 3s 72us/step - loss: 2.3027 - accuracy: 0.1002 - val_loss: 2.3031 - val_accuracy: 0.0954\n",
            "Epoch 8/20\n",
            "39923/39923 [==============================] - 3s 71us/step - loss: 2.3027 - accuracy: 0.0977 - val_loss: 2.3028 - val_accuracy: 0.0954\n",
            "Epoch 9/20\n",
            "39923/39923 [==============================] - 3s 72us/step - loss: 2.3027 - accuracy: 0.0981 - val_loss: 2.3031 - val_accuracy: 0.0876\n",
            "Epoch 10/20\n",
            "39923/39923 [==============================] - 3s 74us/step - loss: 2.3027 - accuracy: 0.0982 - val_loss: 2.3031 - val_accuracy: 0.0876\n",
            "Epoch 11/20\n",
            "39923/39923 [==============================] - 3s 74us/step - loss: 2.3027 - accuracy: 0.0985 - val_loss: 2.3029 - val_accuracy: 0.0949\n",
            "Epoch 12/20\n",
            "39923/39923 [==============================] - 3s 72us/step - loss: 2.3027 - accuracy: 0.0996 - val_loss: 2.3031 - val_accuracy: 0.0949\n",
            "Epoch 13/20\n",
            "39923/39923 [==============================] - 3s 74us/step - loss: 2.3027 - accuracy: 0.0985 - val_loss: 2.3032 - val_accuracy: 0.0954\n",
            "Epoch 14/20\n",
            "39923/39923 [==============================] - 3s 73us/step - loss: 2.3027 - accuracy: 0.1010 - val_loss: 2.3035 - val_accuracy: 0.0876\n",
            "Epoch 15/20\n",
            "39923/39923 [==============================] - 3s 73us/step - loss: 2.3027 - accuracy: 0.0993 - val_loss: 2.3029 - val_accuracy: 0.0876\n",
            "Epoch 16/20\n",
            "39923/39923 [==============================] - 3s 73us/step - loss: 2.3027 - accuracy: 0.0989 - val_loss: 2.3033 - val_accuracy: 0.0876\n",
            "Epoch 17/20\n",
            "39923/39923 [==============================] - 3s 73us/step - loss: 2.3027 - accuracy: 0.1018 - val_loss: 2.3029 - val_accuracy: 0.0954\n",
            "Epoch 18/20\n",
            "39923/39923 [==============================] - 3s 73us/step - loss: 2.3027 - accuracy: 0.0988 - val_loss: 2.3033 - val_accuracy: 0.0876\n",
            "Epoch 19/20\n",
            "39923/39923 [==============================] - 3s 74us/step - loss: 2.3027 - accuracy: 0.1010 - val_loss: 2.3031 - val_accuracy: 0.1022\n",
            "Epoch 20/20\n",
            "39923/39923 [==============================] - 3s 73us/step - loss: 2.3027 - accuracy: 0.0978 - val_loss: 2.3031 - val_accuracy: 0.0876\n",
            "-10\n",
            "(39769, 2, 128) (39769, 10) (2073, 2, 128) (2073, 10)\n",
            "Train on 39769 samples, validate on 2073 samples\n",
            "Epoch 1/20\n",
            "39769/39769 [==============================] - 3s 67us/step - loss: 2.3028 - accuracy: 0.0968 - val_loss: 2.3027 - val_accuracy: 0.0970\n",
            "Epoch 2/20\n",
            "39769/39769 [==============================] - 3s 70us/step - loss: 2.3027 - accuracy: 0.0996 - val_loss: 2.3027 - val_accuracy: 0.1008\n",
            "Epoch 3/20\n",
            "39769/39769 [==============================] - 3s 67us/step - loss: 2.3027 - accuracy: 0.0978 - val_loss: 2.3027 - val_accuracy: 0.0921\n",
            "Epoch 4/20\n",
            "39769/39769 [==============================] - 2s 62us/step - loss: 2.3027 - accuracy: 0.1000 - val_loss: 2.3027 - val_accuracy: 0.0970\n",
            "Epoch 5/20\n",
            "39769/39769 [==============================] - 2s 63us/step - loss: 2.3027 - accuracy: 0.0998 - val_loss: 2.3030 - val_accuracy: 0.0921\n",
            "Epoch 6/20\n",
            "39769/39769 [==============================] - 3s 64us/step - loss: 2.3027 - accuracy: 0.0984 - val_loss: 2.3030 - val_accuracy: 0.0970\n",
            "Epoch 7/20\n",
            "39769/39769 [==============================] - 2s 63us/step - loss: 2.3027 - accuracy: 0.1004 - val_loss: 2.3028 - val_accuracy: 0.0921\n",
            "Epoch 8/20\n",
            "39769/39769 [==============================] - 3s 63us/step - loss: 2.3027 - accuracy: 0.0997 - val_loss: 2.3028 - val_accuracy: 0.1008\n",
            "Epoch 9/20\n",
            "39769/39769 [==============================] - 3s 64us/step - loss: 2.3027 - accuracy: 0.1013 - val_loss: 2.3026 - val_accuracy: 0.0970\n",
            "Epoch 10/20\n",
            "39769/39769 [==============================] - 2s 63us/step - loss: 2.3027 - accuracy: 0.1002 - val_loss: 2.3027 - val_accuracy: 0.0970\n",
            "Epoch 11/20\n",
            "39769/39769 [==============================] - 2s 63us/step - loss: 2.3027 - accuracy: 0.0986 - val_loss: 2.3031 - val_accuracy: 0.0921\n",
            "Epoch 12/20\n",
            "39769/39769 [==============================] - 3s 63us/step - loss: 2.3027 - accuracy: 0.0990 - val_loss: 2.3031 - val_accuracy: 0.0921\n",
            "Epoch 13/20\n",
            "39769/39769 [==============================] - 3s 64us/step - loss: 2.3027 - accuracy: 0.0998 - val_loss: 2.3028 - val_accuracy: 0.0921\n",
            "Epoch 14/20\n",
            "39769/39769 [==============================] - 3s 63us/step - loss: 2.3027 - accuracy: 0.0995 - val_loss: 2.3030 - val_accuracy: 0.0921\n",
            "Epoch 15/20\n",
            "39769/39769 [==============================] - 3s 63us/step - loss: 2.3027 - accuracy: 0.1015 - val_loss: 2.3028 - val_accuracy: 0.1066\n",
            "Epoch 16/20\n",
            "39769/39769 [==============================] - 3s 63us/step - loss: 2.3027 - accuracy: 0.1007 - val_loss: 2.3029 - val_accuracy: 0.0921\n",
            "Epoch 17/20\n",
            "39769/39769 [==============================] - 2s 62us/step - loss: 2.3027 - accuracy: 0.1010 - val_loss: 2.3029 - val_accuracy: 0.1066\n",
            "Epoch 18/20\n",
            "39769/39769 [==============================] - 3s 64us/step - loss: 2.3027 - accuracy: 0.0998 - val_loss: 2.3028 - val_accuracy: 0.1008\n",
            "Epoch 19/20\n",
            "39769/39769 [==============================] - 2s 63us/step - loss: 2.3027 - accuracy: 0.0978 - val_loss: 2.3028 - val_accuracy: 0.0921\n",
            "Epoch 20/20\n",
            "39769/39769 [==============================] - 3s 65us/step - loss: 2.3027 - accuracy: 0.0998 - val_loss: 2.3029 - val_accuracy: 0.0921\n",
            "-8\n",
            "(40042, 2, 128) (40042, 10) (2103, 2, 128) (2103, 10)\n",
            "Train on 40042 samples, validate on 2103 samples\n",
            "Epoch 1/20\n",
            "40042/40042 [==============================] - 2s 62us/step - loss: 2.3027 - accuracy: 0.0988 - val_loss: 2.3027 - val_accuracy: 0.0922\n",
            "Epoch 2/20\n",
            "40042/40042 [==============================] - 2s 62us/step - loss: 2.3027 - accuracy: 0.0994 - val_loss: 2.3027 - val_accuracy: 0.0922\n",
            "Epoch 3/20\n",
            "40042/40042 [==============================] - 2s 62us/step - loss: 2.3027 - accuracy: 0.0972 - val_loss: 2.3028 - val_accuracy: 0.0922\n",
            "Epoch 4/20\n",
            "40042/40042 [==============================] - 2s 62us/step - loss: 2.3027 - accuracy: 0.1008 - val_loss: 2.3028 - val_accuracy: 0.0970\n",
            "Epoch 5/20\n",
            "40042/40042 [==============================] - 3s 63us/step - loss: 2.3027 - accuracy: 0.0995 - val_loss: 2.3029 - val_accuracy: 0.0922\n",
            "Epoch 6/20\n",
            "40042/40042 [==============================] - 3s 63us/step - loss: 2.3027 - accuracy: 0.1004 - val_loss: 2.3028 - val_accuracy: 0.0922\n",
            "Epoch 7/20\n",
            "40042/40042 [==============================] - 2s 62us/step - loss: 2.3027 - accuracy: 0.1005 - val_loss: 2.3027 - val_accuracy: 0.0922\n",
            "Epoch 8/20\n",
            "40042/40042 [==============================] - 2s 62us/step - loss: 2.3027 - accuracy: 0.0997 - val_loss: 2.3027 - val_accuracy: 0.0922\n",
            "Epoch 9/20\n",
            "40042/40042 [==============================] - 3s 62us/step - loss: 2.3027 - accuracy: 0.1005 - val_loss: 2.3028 - val_accuracy: 0.0922\n",
            "Epoch 10/20\n",
            "40042/40042 [==============================] - 2s 62us/step - loss: 2.3027 - accuracy: 0.0986 - val_loss: 2.3026 - val_accuracy: 0.0922\n",
            "Epoch 11/20\n",
            "40042/40042 [==============================] - 2s 62us/step - loss: 2.3027 - accuracy: 0.0986 - val_loss: 2.3027 - val_accuracy: 0.0922\n",
            "Epoch 12/20\n",
            "40042/40042 [==============================] - 2s 62us/step - loss: 2.3027 - accuracy: 0.1002 - val_loss: 2.3027 - val_accuracy: 0.0922\n",
            "Epoch 13/20\n",
            "40042/40042 [==============================] - 2s 62us/step - loss: 2.3027 - accuracy: 0.0985 - val_loss: 2.3029 - val_accuracy: 0.0922\n",
            "Epoch 14/20\n",
            "40042/40042 [==============================] - 3s 63us/step - loss: 2.3027 - accuracy: 0.0992 - val_loss: 2.3029 - val_accuracy: 0.0922\n",
            "Epoch 15/20\n",
            "40042/40042 [==============================] - 2s 61us/step - loss: 2.3027 - accuracy: 0.1007 - val_loss: 2.3026 - val_accuracy: 0.0922\n",
            "Epoch 16/20\n",
            "40042/40042 [==============================] - 2s 62us/step - loss: 2.3027 - accuracy: 0.1000 - val_loss: 2.3027 - val_accuracy: 0.0922\n",
            "Epoch 17/20\n",
            "40042/40042 [==============================] - 2s 61us/step - loss: 2.3027 - accuracy: 0.1006 - val_loss: 2.3027 - val_accuracy: 0.0961\n",
            "Epoch 18/20\n",
            "40042/40042 [==============================] - 2s 62us/step - loss: 2.3027 - accuracy: 0.0987 - val_loss: 2.3028 - val_accuracy: 0.0961\n",
            "Epoch 19/20\n",
            "40042/40042 [==============================] - 3s 63us/step - loss: 2.3027 - accuracy: 0.0975 - val_loss: 2.3028 - val_accuracy: 0.0922\n",
            "Epoch 20/20\n",
            "40042/40042 [==============================] - 2s 60us/step - loss: 2.3027 - accuracy: 0.1000 - val_loss: 2.3029 - val_accuracy: 0.0922\n",
            "-6\n",
            "(39916, 2, 128) (39916, 10) (2138, 2, 128) (2138, 10)\n",
            "Train on 39916 samples, validate on 2138 samples\n",
            "Epoch 1/20\n",
            "39916/39916 [==============================] - 3s 70us/step - loss: 2.3027 - accuracy: 0.0981 - val_loss: 2.3028 - val_accuracy: 0.1010\n",
            "Epoch 2/20\n",
            "39916/39916 [==============================] - 3s 70us/step - loss: 2.3027 - accuracy: 0.1007 - val_loss: 2.3027 - val_accuracy: 0.1010\n",
            "Epoch 3/20\n",
            "39916/39916 [==============================] - 3s 70us/step - loss: 2.3027 - accuracy: 0.1012 - val_loss: 2.3027 - val_accuracy: 0.0935\n",
            "Epoch 4/20\n",
            "39916/39916 [==============================] - 3s 70us/step - loss: 2.3027 - accuracy: 0.0984 - val_loss: 2.3025 - val_accuracy: 0.1113\n",
            "Epoch 5/20\n",
            "39916/39916 [==============================] - 3s 72us/step - loss: 2.3027 - accuracy: 0.0984 - val_loss: 2.3026 - val_accuracy: 0.1113\n",
            "Epoch 6/20\n",
            "39916/39916 [==============================] - 3s 82us/step - loss: 2.3027 - accuracy: 0.0955 - val_loss: 2.3026 - val_accuracy: 0.0935\n",
            "Epoch 7/20\n",
            "39916/39916 [==============================] - 3s 81us/step - loss: 2.3027 - accuracy: 0.1000 - val_loss: 2.3027 - val_accuracy: 0.0935\n",
            "Epoch 8/20\n",
            "39916/39916 [==============================] - 3s 82us/step - loss: 2.3027 - accuracy: 0.0995 - val_loss: 2.3027 - val_accuracy: 0.0964\n",
            "Epoch 9/20\n",
            "39916/39916 [==============================] - 3s 77us/step - loss: 2.3027 - accuracy: 0.0986 - val_loss: 2.3025 - val_accuracy: 0.1113\n",
            "Epoch 10/20\n",
            "39916/39916 [==============================] - 3s 74us/step - loss: 2.3027 - accuracy: 0.0986 - val_loss: 2.3025 - val_accuracy: 0.1010\n",
            "Epoch 11/20\n",
            "39916/39916 [==============================] - 3s 73us/step - loss: 2.3027 - accuracy: 0.0971 - val_loss: 2.3026 - val_accuracy: 0.0964\n",
            "Epoch 12/20\n",
            "39916/39916 [==============================] - 3s 75us/step - loss: 2.3027 - accuracy: 0.0982 - val_loss: 2.3026 - val_accuracy: 0.0935\n",
            "Epoch 13/20\n",
            "39916/39916 [==============================] - 3s 75us/step - loss: 2.3027 - accuracy: 0.1005 - val_loss: 2.3025 - val_accuracy: 0.1113\n",
            "Epoch 14/20\n",
            "39916/39916 [==============================] - 3s 76us/step - loss: 2.3027 - accuracy: 0.0982 - val_loss: 2.3027 - val_accuracy: 0.1113\n",
            "Epoch 15/20\n",
            "39916/39916 [==============================] - 3s 75us/step - loss: 2.3027 - accuracy: 0.0999 - val_loss: 2.3026 - val_accuracy: 0.0935\n",
            "Epoch 16/20\n",
            "39916/39916 [==============================] - 3s 74us/step - loss: 2.3027 - accuracy: 0.0984 - val_loss: 2.3025 - val_accuracy: 0.0964\n",
            "Epoch 17/20\n",
            "39916/39916 [==============================] - 3s 74us/step - loss: 2.3027 - accuracy: 0.0973 - val_loss: 2.3026 - val_accuracy: 0.1113\n",
            "Epoch 18/20\n",
            "39916/39916 [==============================] - 3s 73us/step - loss: 2.3027 - accuracy: 0.1002 - val_loss: 2.3027 - val_accuracy: 0.0964\n",
            "Epoch 19/20\n",
            "39916/39916 [==============================] - 3s 73us/step - loss: 2.3027 - accuracy: 0.1003 - val_loss: 2.3027 - val_accuracy: 0.0964\n",
            "Epoch 20/20\n",
            "39916/39916 [==============================] - 3s 75us/step - loss: 2.3027 - accuracy: 0.0974 - val_loss: 2.3027 - val_accuracy: 0.0964\n",
            "-4\n",
            "(39860, 2, 128) (39860, 10) (2146, 2, 128) (2146, 10)\n",
            "Train on 39860 samples, validate on 2146 samples\n",
            "Epoch 1/20\n",
            "39860/39860 [==============================] - 2s 61us/step - loss: 2.3027 - accuracy: 0.0980 - val_loss: 2.3029 - val_accuracy: 0.0979\n",
            "Epoch 2/20\n",
            "39860/39860 [==============================] - 2s 58us/step - loss: 2.3027 - accuracy: 0.0992 - val_loss: 2.3027 - val_accuracy: 0.0974\n",
            "Epoch 3/20\n",
            "39860/39860 [==============================] - 2s 59us/step - loss: 2.3027 - accuracy: 0.0988 - val_loss: 2.3027 - val_accuracy: 0.0974\n",
            "Epoch 4/20\n",
            "39860/39860 [==============================] - 2s 60us/step - loss: 2.3027 - accuracy: 0.1003 - val_loss: 2.3028 - val_accuracy: 0.0974\n",
            "Epoch 5/20\n",
            "39860/39860 [==============================] - 2s 59us/step - loss: 2.3027 - accuracy: 0.1001 - val_loss: 2.3028 - val_accuracy: 0.0974\n",
            "Epoch 6/20\n",
            "39860/39860 [==============================] - 2s 60us/step - loss: 2.3027 - accuracy: 0.1007 - val_loss: 2.3027 - val_accuracy: 0.0974\n",
            "Epoch 7/20\n",
            "39860/39860 [==============================] - 2s 60us/step - loss: 2.3027 - accuracy: 0.0996 - val_loss: 2.3029 - val_accuracy: 0.0974\n",
            "Epoch 8/20\n",
            "39860/39860 [==============================] - 2s 59us/step - loss: 2.3027 - accuracy: 0.0977 - val_loss: 2.3028 - val_accuracy: 0.0974\n",
            "Epoch 9/20\n",
            "39860/39860 [==============================] - 2s 60us/step - loss: 2.3027 - accuracy: 0.1016 - val_loss: 2.3027 - val_accuracy: 0.1034\n",
            "Epoch 10/20\n",
            "39860/39860 [==============================] - 2s 59us/step - loss: 2.3027 - accuracy: 0.0977 - val_loss: 2.3028 - val_accuracy: 0.0974\n",
            "Epoch 11/20\n",
            "39860/39860 [==============================] - 2s 59us/step - loss: 2.3027 - accuracy: 0.1004 - val_loss: 2.3027 - val_accuracy: 0.0974\n",
            "Epoch 12/20\n",
            "39860/39860 [==============================] - 2s 60us/step - loss: 2.3027 - accuracy: 0.1001 - val_loss: 2.3028 - val_accuracy: 0.0974\n",
            "Epoch 13/20\n",
            "39860/39860 [==============================] - 2s 59us/step - loss: 2.3027 - accuracy: 0.1005 - val_loss: 2.3027 - val_accuracy: 0.0974\n",
            "Epoch 14/20\n",
            "39860/39860 [==============================] - 2s 59us/step - loss: 2.3027 - accuracy: 0.1010 - val_loss: 2.3027 - val_accuracy: 0.0974\n",
            "Epoch 15/20\n",
            "39860/39860 [==============================] - 2s 59us/step - loss: 2.3027 - accuracy: 0.0995 - val_loss: 2.3027 - val_accuracy: 0.0974\n",
            "Epoch 16/20\n",
            "39860/39860 [==============================] - 2s 59us/step - loss: 2.3027 - accuracy: 0.1010 - val_loss: 2.3026 - val_accuracy: 0.1007\n",
            "Epoch 17/20\n",
            "39860/39860 [==============================] - 2s 59us/step - loss: 2.3027 - accuracy: 0.1002 - val_loss: 2.3027 - val_accuracy: 0.0974\n",
            "Epoch 18/20\n",
            "39860/39860 [==============================] - 2s 60us/step - loss: 2.3027 - accuracy: 0.0996 - val_loss: 2.3028 - val_accuracy: 0.0974\n",
            "Epoch 19/20\n",
            "39860/39860 [==============================] - 2s 59us/step - loss: 2.3027 - accuracy: 0.0988 - val_loss: 2.3029 - val_accuracy: 0.0974\n",
            "Epoch 20/20\n",
            "39860/39860 [==============================] - 2s 58us/step - loss: 2.3027 - accuracy: 0.1018 - val_loss: 2.3028 - val_accuracy: 0.0974\n",
            "-2\n",
            "(39948, 2, 128) (39948, 10) (2083, 2, 128) (2083, 10)\n",
            "Train on 39948 samples, validate on 2083 samples\n",
            "Epoch 1/20\n",
            "39948/39948 [==============================] - 2s 59us/step - loss: 2.3027 - accuracy: 0.0996 - val_loss: 2.3025 - val_accuracy: 0.1047\n",
            "Epoch 2/20\n",
            "39948/39948 [==============================] - 2s 60us/step - loss: 2.3027 - accuracy: 0.1012 - val_loss: 2.3027 - val_accuracy: 0.1056\n",
            "Epoch 3/20\n",
            "39948/39948 [==============================] - 2s 61us/step - loss: 2.3027 - accuracy: 0.1006 - val_loss: 2.3027 - val_accuracy: 0.1099\n",
            "Epoch 4/20\n",
            "39948/39948 [==============================] - 2s 60us/step - loss: 2.3027 - accuracy: 0.0996 - val_loss: 2.3024 - val_accuracy: 0.1099\n",
            "Epoch 5/20\n",
            "39948/39948 [==============================] - 2s 60us/step - loss: 2.3027 - accuracy: 0.0973 - val_loss: 2.3025 - val_accuracy: 0.1047\n",
            "Epoch 6/20\n",
            "39948/39948 [==============================] - 2s 59us/step - loss: 2.3027 - accuracy: 0.1002 - val_loss: 2.3026 - val_accuracy: 0.0855\n",
            "Epoch 7/20\n",
            "39948/39948 [==============================] - 2s 60us/step - loss: 2.3027 - accuracy: 0.0996 - val_loss: 2.3024 - val_accuracy: 0.1047\n",
            "Epoch 8/20\n",
            "39948/39948 [==============================] - 2s 60us/step - loss: 2.3027 - accuracy: 0.0992 - val_loss: 2.3028 - val_accuracy: 0.0855\n",
            "Epoch 9/20\n",
            "39948/39948 [==============================] - 2s 60us/step - loss: 2.3027 - accuracy: 0.0995 - val_loss: 2.3025 - val_accuracy: 0.1099\n",
            "Epoch 10/20\n",
            "39948/39948 [==============================] - 2s 60us/step - loss: 2.3027 - accuracy: 0.0992 - val_loss: 2.3026 - val_accuracy: 0.1099\n",
            "Epoch 11/20\n",
            "39948/39948 [==============================] - 2s 61us/step - loss: 2.3027 - accuracy: 0.0990 - val_loss: 2.3026 - val_accuracy: 0.1099\n",
            "Epoch 12/20\n",
            "39948/39948 [==============================] - 2s 61us/step - loss: 2.3027 - accuracy: 0.0980 - val_loss: 2.3026 - val_accuracy: 0.1047\n",
            "Epoch 13/20\n",
            "39948/39948 [==============================] - 2s 61us/step - loss: 2.3027 - accuracy: 0.0986 - val_loss: 2.3024 - val_accuracy: 0.1099\n",
            "Epoch 14/20\n",
            "39948/39948 [==============================] - 2s 61us/step - loss: 2.3027 - accuracy: 0.0986 - val_loss: 2.3027 - val_accuracy: 0.1056\n",
            "Epoch 15/20\n",
            "39948/39948 [==============================] - 2s 61us/step - loss: 2.3027 - accuracy: 0.0970 - val_loss: 2.3026 - val_accuracy: 0.1056\n",
            "Epoch 16/20\n",
            "39948/39948 [==============================] - 2s 61us/step - loss: 2.3027 - accuracy: 0.1001 - val_loss: 2.3027 - val_accuracy: 0.1047\n",
            "Epoch 17/20\n",
            "39948/39948 [==============================] - 2s 62us/step - loss: 2.3027 - accuracy: 0.0986 - val_loss: 2.3027 - val_accuracy: 0.0855\n",
            "Epoch 18/20\n",
            "39948/39948 [==============================] - 2s 61us/step - loss: 2.3027 - accuracy: 0.0983 - val_loss: 2.3026 - val_accuracy: 0.0855\n",
            "Epoch 19/20\n",
            "39948/39948 [==============================] - 2s 59us/step - loss: 2.3027 - accuracy: 0.0999 - val_loss: 2.3026 - val_accuracy: 0.0855\n",
            "Epoch 20/20\n",
            "39948/39948 [==============================] - 2s 58us/step - loss: 2.3027 - accuracy: 0.0981 - val_loss: 2.3026 - val_accuracy: 0.1099\n",
            "0\n",
            "(39851, 2, 128) (39851, 10) (2112, 2, 128) (2112, 10)\n",
            "Train on 39851 samples, validate on 2112 samples\n",
            "Epoch 1/20\n",
            "39851/39851 [==============================] - 2s 59us/step - loss: 2.3028 - accuracy: 0.0987 - val_loss: 2.3025 - val_accuracy: 0.1108\n",
            "Epoch 2/20\n",
            "39851/39851 [==============================] - 2s 58us/step - loss: 2.3027 - accuracy: 0.0984 - val_loss: 2.3026 - val_accuracy: 0.0966\n",
            "Epoch 3/20\n",
            "39851/39851 [==============================] - 2s 58us/step - loss: 2.3027 - accuracy: 0.1005 - val_loss: 2.3025 - val_accuracy: 0.0966\n",
            "Epoch 4/20\n",
            "39851/39851 [==============================] - 2s 58us/step - loss: 2.3027 - accuracy: 0.0989 - val_loss: 2.3025 - val_accuracy: 0.1108\n",
            "Epoch 5/20\n",
            "39851/39851 [==============================] - 2s 58us/step - loss: 2.3027 - accuracy: 0.1009 - val_loss: 2.3024 - val_accuracy: 0.1108\n",
            "Epoch 6/20\n",
            "39851/39851 [==============================] - 2s 58us/step - loss: 2.3027 - accuracy: 0.1007 - val_loss: 2.3024 - val_accuracy: 0.0966\n",
            "Epoch 7/20\n",
            "39851/39851 [==============================] - 2s 58us/step - loss: 2.3027 - accuracy: 0.0987 - val_loss: 2.3023 - val_accuracy: 0.1108\n",
            "Epoch 8/20\n",
            "39851/39851 [==============================] - 2s 58us/step - loss: 2.3027 - accuracy: 0.1004 - val_loss: 2.3024 - val_accuracy: 0.1108\n",
            "Epoch 9/20\n",
            "39851/39851 [==============================] - 2s 58us/step - loss: 2.3027 - accuracy: 0.0998 - val_loss: 2.3022 - val_accuracy: 0.1108\n",
            "Epoch 10/20\n",
            "39851/39851 [==============================] - 2s 59us/step - loss: 2.3027 - accuracy: 0.1006 - val_loss: 2.3024 - val_accuracy: 0.1108\n",
            "Epoch 11/20\n",
            "39851/39851 [==============================] - 2s 59us/step - loss: 2.3027 - accuracy: 0.0978 - val_loss: 2.3024 - val_accuracy: 0.1108\n",
            "Epoch 12/20\n",
            "39851/39851 [==============================] - 2s 58us/step - loss: 2.3027 - accuracy: 0.0997 - val_loss: 2.3024 - val_accuracy: 0.0942\n",
            "Epoch 13/20\n",
            "39851/39851 [==============================] - 2s 59us/step - loss: 2.3027 - accuracy: 0.0981 - val_loss: 2.3025 - val_accuracy: 0.1108\n",
            "Epoch 14/20\n",
            "39851/39851 [==============================] - 2s 58us/step - loss: 2.3027 - accuracy: 0.1009 - val_loss: 2.3025 - val_accuracy: 0.1108\n",
            "Epoch 15/20\n",
            "39851/39851 [==============================] - 2s 59us/step - loss: 2.3027 - accuracy: 0.0994 - val_loss: 2.3025 - val_accuracy: 0.1108\n",
            "Epoch 16/20\n",
            "39851/39851 [==============================] - 2s 61us/step - loss: 2.3027 - accuracy: 0.0994 - val_loss: 2.3024 - val_accuracy: 0.1108\n",
            "Epoch 17/20\n",
            "39851/39851 [==============================] - 2s 61us/step - loss: 2.3027 - accuracy: 0.1000 - val_loss: 2.3026 - val_accuracy: 0.0942\n",
            "Epoch 18/20\n",
            "39851/39851 [==============================] - 2s 61us/step - loss: 2.3027 - accuracy: 0.0984 - val_loss: 2.3024 - val_accuracy: 0.1108\n",
            "Epoch 19/20\n",
            "39851/39851 [==============================] - 2s 60us/step - loss: 2.3027 - accuracy: 0.1000 - val_loss: 2.3024 - val_accuracy: 0.0942\n",
            "Epoch 20/20\n",
            "39851/39851 [==============================] - 2s 59us/step - loss: 2.3027 - accuracy: 0.1001 - val_loss: 2.3024 - val_accuracy: 0.1108\n",
            "2\n",
            "(39916, 2, 128) (39916, 10) (2094, 2, 128) (2094, 10)\n",
            "Train on 39916 samples, validate on 2094 samples\n",
            "Epoch 1/20\n",
            "39916/39916 [==============================] - 3s 74us/step - loss: 2.3027 - accuracy: 0.0976 - val_loss: 2.3027 - val_accuracy: 0.1041\n",
            "Epoch 2/20\n",
            "39916/39916 [==============================] - 3s 79us/step - loss: 2.3027 - accuracy: 0.0995 - val_loss: 2.3025 - val_accuracy: 0.1041\n",
            "Epoch 3/20\n",
            "39916/39916 [==============================] - 3s 83us/step - loss: 2.3027 - accuracy: 0.1002 - val_loss: 2.3025 - val_accuracy: 0.1041\n",
            "Epoch 4/20\n",
            "39916/39916 [==============================] - 3s 78us/step - loss: 2.3027 - accuracy: 0.0983 - val_loss: 2.3026 - val_accuracy: 0.1041\n",
            "Epoch 5/20\n",
            "39916/39916 [==============================] - 3s 76us/step - loss: 2.3027 - accuracy: 0.0995 - val_loss: 2.3025 - val_accuracy: 0.1041\n",
            "Epoch 6/20\n",
            "39916/39916 [==============================] - 3s 76us/step - loss: 2.3027 - accuracy: 0.1012 - val_loss: 2.3026 - val_accuracy: 0.1051\n",
            "Epoch 7/20\n",
            "39916/39916 [==============================] - 3s 75us/step - loss: 2.3027 - accuracy: 0.0993 - val_loss: 2.3026 - val_accuracy: 0.1041\n",
            "Epoch 8/20\n",
            "39916/39916 [==============================] - 4s 100us/step - loss: 2.3027 - accuracy: 0.0994 - val_loss: 2.3025 - val_accuracy: 0.1041\n",
            "Epoch 9/20\n",
            "39916/39916 [==============================] - 4s 102us/step - loss: 2.3027 - accuracy: 0.1016 - val_loss: 2.3024 - val_accuracy: 0.1036\n",
            "Epoch 10/20\n",
            "39916/39916 [==============================] - 3s 84us/step - loss: 2.3027 - accuracy: 0.1002 - val_loss: 2.3026 - val_accuracy: 0.1041\n",
            "Epoch 11/20\n",
            "39916/39916 [==============================] - 3s 77us/step - loss: 2.3027 - accuracy: 0.0997 - val_loss: 2.3025 - val_accuracy: 0.1041\n",
            "Epoch 12/20\n",
            "39916/39916 [==============================] - 3s 76us/step - loss: 2.3027 - accuracy: 0.0973 - val_loss: 2.3026 - val_accuracy: 0.1041\n",
            "Epoch 13/20\n",
            "39916/39916 [==============================] - 3s 74us/step - loss: 2.3027 - accuracy: 0.0989 - val_loss: 2.3025 - val_accuracy: 0.1041\n",
            "Epoch 14/20\n",
            "39916/39916 [==============================] - 3s 76us/step - loss: 2.3027 - accuracy: 0.0996 - val_loss: 2.3026 - val_accuracy: 0.1041\n",
            "Epoch 15/20\n",
            "39916/39916 [==============================] - 3s 74us/step - loss: 2.3027 - accuracy: 0.0983 - val_loss: 2.3025 - val_accuracy: 0.1041\n",
            "Epoch 16/20\n",
            "39916/39916 [==============================] - 3s 72us/step - loss: 2.3027 - accuracy: 0.0996 - val_loss: 2.3025 - val_accuracy: 0.1041\n",
            "Epoch 17/20\n",
            "39916/39916 [==============================] - 3s 74us/step - loss: 2.3027 - accuracy: 0.1004 - val_loss: 2.3025 - val_accuracy: 0.1036\n",
            "Epoch 18/20\n",
            "39916/39916 [==============================] - 3s 73us/step - loss: 2.3027 - accuracy: 0.0980 - val_loss: 2.3026 - val_accuracy: 0.1036\n",
            "Epoch 19/20\n",
            "39916/39916 [==============================] - 3s 75us/step - loss: 2.3027 - accuracy: 0.1001 - val_loss: 2.3025 - val_accuracy: 0.1041\n",
            "Epoch 20/20\n",
            "39916/39916 [==============================] - 3s 75us/step - loss: 2.3027 - accuracy: 0.0998 - val_loss: 2.3025 - val_accuracy: 0.0984\n",
            "4\n",
            "(39911, 2, 128) (39911, 10) (2193, 2, 128) (2193, 10)\n",
            "Train on 39911 samples, validate on 2193 samples\n",
            "Epoch 1/20\n",
            "39911/39911 [==============================] - 2s 61us/step - loss: 1.9112 - accuracy: 0.2165 - val_loss: 1.6848 - val_accuracy: 0.2987\n",
            "Epoch 2/20\n",
            "39911/39911 [==============================] - 2s 59us/step - loss: 1.6846 - accuracy: 0.3023 - val_loss: 1.6362 - val_accuracy: 0.3137\n",
            "Epoch 3/20\n",
            "39911/39911 [==============================] - 2s 61us/step - loss: 1.6392 - accuracy: 0.3188 - val_loss: 1.5855 - val_accuracy: 0.3338\n",
            "Epoch 4/20\n",
            "39911/39911 [==============================] - 2s 60us/step - loss: 1.5800 - accuracy: 0.3364 - val_loss: 1.5202 - val_accuracy: 0.3716\n",
            "Epoch 5/20\n",
            "39911/39911 [==============================] - 2s 60us/step - loss: 1.5295 - accuracy: 0.3560 - val_loss: 1.4709 - val_accuracy: 0.3680\n",
            "Epoch 6/20\n",
            "39911/39911 [==============================] - 2s 61us/step - loss: 1.4893 - accuracy: 0.3677 - val_loss: 1.4470 - val_accuracy: 0.3830\n",
            "Epoch 7/20\n",
            "39911/39911 [==============================] - 2s 59us/step - loss: 1.4662 - accuracy: 0.3723 - val_loss: 1.4274 - val_accuracy: 0.3972\n",
            "Epoch 8/20\n",
            "39911/39911 [==============================] - 2s 60us/step - loss: 1.4500 - accuracy: 0.3784 - val_loss: 1.4124 - val_accuracy: 0.4008\n",
            "Epoch 9/20\n",
            "39911/39911 [==============================] - 2s 59us/step - loss: 1.4387 - accuracy: 0.3797 - val_loss: 1.4066 - val_accuracy: 0.4017\n",
            "Epoch 10/20\n",
            "39911/39911 [==============================] - 2s 60us/step - loss: 1.4288 - accuracy: 0.3843 - val_loss: 1.4017 - val_accuracy: 0.4054\n",
            "Epoch 11/20\n",
            "39911/39911 [==============================] - 2s 60us/step - loss: 1.4180 - accuracy: 0.3865 - val_loss: 1.3879 - val_accuracy: 0.4054\n",
            "Epoch 12/20\n",
            "39911/39911 [==============================] - 2s 60us/step - loss: 1.4069 - accuracy: 0.3928 - val_loss: 1.3911 - val_accuracy: 0.3735\n",
            "Epoch 13/20\n",
            "39911/39911 [==============================] - 2s 60us/step - loss: 1.3979 - accuracy: 0.3955 - val_loss: 1.3686 - val_accuracy: 0.4131\n",
            "Epoch 14/20\n",
            "39911/39911 [==============================] - 2s 59us/step - loss: 1.3879 - accuracy: 0.3977 - val_loss: 1.3689 - val_accuracy: 0.4227\n",
            "Epoch 15/20\n",
            "39911/39911 [==============================] - 2s 59us/step - loss: 1.3775 - accuracy: 0.4033 - val_loss: 1.3669 - val_accuracy: 0.4118\n",
            "Epoch 16/20\n",
            "39911/39911 [==============================] - 2s 59us/step - loss: 1.3665 - accuracy: 0.4063 - val_loss: 1.3629 - val_accuracy: 0.4022\n",
            "Epoch 17/20\n",
            "39911/39911 [==============================] - 2s 60us/step - loss: 1.3570 - accuracy: 0.4117 - val_loss: 1.3442 - val_accuracy: 0.4227\n",
            "Epoch 18/20\n",
            "39911/39911 [==============================] - 2s 59us/step - loss: 1.3476 - accuracy: 0.4166 - val_loss: 1.3347 - val_accuracy: 0.4232\n",
            "Epoch 19/20\n",
            "39911/39911 [==============================] - 2s 59us/step - loss: 1.3386 - accuracy: 0.4193 - val_loss: 1.3342 - val_accuracy: 0.4163\n",
            "Epoch 20/20\n",
            "39911/39911 [==============================] - 2s 61us/step - loss: 1.3343 - accuracy: 0.4174 - val_loss: 1.3333 - val_accuracy: 0.4145\n",
            "6\n",
            "(40013, 2, 128) (40013, 10) (2127, 2, 128) (2127, 10)\n",
            "Train on 40013 samples, validate on 2127 samples\n",
            "Epoch 1/20\n",
            "40013/40013 [==============================] - 2s 61us/step - loss: 1.3419 - accuracy: 0.4150 - val_loss: 1.3601 - val_accuracy: 0.4090\n",
            "Epoch 2/20\n",
            "40013/40013 [==============================] - 2s 60us/step - loss: 1.3284 - accuracy: 0.4220 - val_loss: 1.3484 - val_accuracy: 0.4142\n",
            "Epoch 3/20\n",
            "40013/40013 [==============================] - 2s 61us/step - loss: 1.3136 - accuracy: 0.4227 - val_loss: 1.3329 - val_accuracy: 0.4137\n",
            "Epoch 4/20\n",
            "40013/40013 [==============================] - 2s 62us/step - loss: 1.2925 - accuracy: 0.4289 - val_loss: 1.3279 - val_accuracy: 0.3973\n",
            "Epoch 5/20\n",
            "40013/40013 [==============================] - 2s 62us/step - loss: 1.2806 - accuracy: 0.4315 - val_loss: 1.3030 - val_accuracy: 0.4250\n",
            "Epoch 6/20\n",
            "40013/40013 [==============================] - 3s 64us/step - loss: 1.2681 - accuracy: 0.4375 - val_loss: 1.2935 - val_accuracy: 0.4048\n",
            "Epoch 7/20\n",
            "40013/40013 [==============================] - 3s 64us/step - loss: 1.2594 - accuracy: 0.4394 - val_loss: 1.2905 - val_accuracy: 0.4311\n",
            "Epoch 8/20\n",
            "40013/40013 [==============================] - 3s 65us/step - loss: 1.2501 - accuracy: 0.4453 - val_loss: 1.2794 - val_accuracy: 0.4288\n",
            "Epoch 9/20\n",
            "40013/40013 [==============================] - 3s 65us/step - loss: 1.2419 - accuracy: 0.4445 - val_loss: 1.2810 - val_accuracy: 0.4302\n",
            "Epoch 10/20\n",
            "40013/40013 [==============================] - 2s 58us/step - loss: 1.2349 - accuracy: 0.4484 - val_loss: 1.2831 - val_accuracy: 0.4372\n",
            "Epoch 11/20\n",
            "40013/40013 [==============================] - 2s 59us/step - loss: 1.2275 - accuracy: 0.4466 - val_loss: 1.2644 - val_accuracy: 0.4339\n",
            "Epoch 12/20\n",
            "40013/40013 [==============================] - 2s 60us/step - loss: 1.2195 - accuracy: 0.4537 - val_loss: 1.3071 - val_accuracy: 0.4123\n",
            "Epoch 13/20\n",
            "40013/40013 [==============================] - 2s 61us/step - loss: 1.2131 - accuracy: 0.4555 - val_loss: 1.2625 - val_accuracy: 0.4245\n",
            "Epoch 14/20\n",
            "40013/40013 [==============================] - 2s 61us/step - loss: 1.2055 - accuracy: 0.4598 - val_loss: 1.2696 - val_accuracy: 0.4307\n",
            "Epoch 15/20\n",
            "40013/40013 [==============================] - 2s 61us/step - loss: 1.1980 - accuracy: 0.4631 - val_loss: 1.2485 - val_accuracy: 0.4485\n",
            "Epoch 16/20\n",
            "40013/40013 [==============================] - 2s 61us/step - loss: 1.1912 - accuracy: 0.4675 - val_loss: 1.2507 - val_accuracy: 0.4495\n",
            "Epoch 17/20\n",
            "40013/40013 [==============================] - 2s 61us/step - loss: 1.1841 - accuracy: 0.4699 - val_loss: 1.2433 - val_accuracy: 0.4335\n",
            "Epoch 18/20\n",
            "40013/40013 [==============================] - 2s 61us/step - loss: 1.1782 - accuracy: 0.4676 - val_loss: 1.2442 - val_accuracy: 0.4528\n",
            "Epoch 19/20\n",
            "40013/40013 [==============================] - 2s 61us/step - loss: 1.1703 - accuracy: 0.4724 - val_loss: 1.2362 - val_accuracy: 0.4452\n",
            "Epoch 20/20\n",
            "40013/40013 [==============================] - 2s 61us/step - loss: 1.1603 - accuracy: 0.4781 - val_loss: 1.2188 - val_accuracy: 0.4593\n",
            "8\n",
            "(39907, 2, 128) (39907, 10) (2095, 2, 128) (2095, 10)\n",
            "Train on 39907 samples, validate on 2095 samples\n",
            "Epoch 1/20\n",
            "39907/39907 [==============================] - 2s 59us/step - loss: 1.1950 - accuracy: 0.4652 - val_loss: 1.1929 - val_accuracy: 0.4711\n",
            "Epoch 2/20\n",
            "39907/39907 [==============================] - 2s 59us/step - loss: 1.1772 - accuracy: 0.4728 - val_loss: 1.1821 - val_accuracy: 0.4683\n",
            "Epoch 3/20\n",
            "39907/39907 [==============================] - 2s 60us/step - loss: 1.1627 - accuracy: 0.4770 - val_loss: 1.1692 - val_accuracy: 0.4697\n",
            "Epoch 4/20\n",
            "39907/39907 [==============================] - 2s 60us/step - loss: 1.1507 - accuracy: 0.4808 - val_loss: 1.1637 - val_accuracy: 0.4831\n",
            "Epoch 5/20\n",
            "39907/39907 [==============================] - 2s 60us/step - loss: 1.1401 - accuracy: 0.4865 - val_loss: 1.1558 - val_accuracy: 0.4897\n",
            "Epoch 6/20\n",
            "39907/39907 [==============================] - 2s 61us/step - loss: 1.1285 - accuracy: 0.4880 - val_loss: 1.1570 - val_accuracy: 0.4969\n",
            "Epoch 7/20\n",
            "39907/39907 [==============================] - 2s 60us/step - loss: 1.1195 - accuracy: 0.4963 - val_loss: 1.1464 - val_accuracy: 0.4811\n",
            "Epoch 8/20\n",
            "39907/39907 [==============================] - 2s 60us/step - loss: 1.1041 - accuracy: 0.5032 - val_loss: 1.1358 - val_accuracy: 0.4807\n",
            "Epoch 9/20\n",
            "39907/39907 [==============================] - 2s 59us/step - loss: 1.0958 - accuracy: 0.5049 - val_loss: 1.1387 - val_accuracy: 0.4893\n",
            "Epoch 10/20\n",
            "39907/39907 [==============================] - 2s 61us/step - loss: 1.0855 - accuracy: 0.5084 - val_loss: 1.1297 - val_accuracy: 0.4649\n",
            "Epoch 11/20\n",
            "39907/39907 [==============================] - 2s 60us/step - loss: 1.0739 - accuracy: 0.5149 - val_loss: 1.1180 - val_accuracy: 0.4926\n",
            "Epoch 12/20\n",
            "39907/39907 [==============================] - 2s 60us/step - loss: 1.0668 - accuracy: 0.5164 - val_loss: 1.1155 - val_accuracy: 0.4921\n",
            "Epoch 13/20\n",
            "39907/39907 [==============================] - 2s 59us/step - loss: 1.0561 - accuracy: 0.5206 - val_loss: 1.0953 - val_accuracy: 0.5036\n",
            "Epoch 14/20\n",
            "39907/39907 [==============================] - 2s 60us/step - loss: 1.0492 - accuracy: 0.5269 - val_loss: 1.0979 - val_accuracy: 0.4969\n",
            "Epoch 15/20\n",
            "39907/39907 [==============================] - 2s 59us/step - loss: 1.0389 - accuracy: 0.5291 - val_loss: 1.0980 - val_accuracy: 0.5041\n",
            "Epoch 16/20\n",
            "39907/39907 [==============================] - 2s 59us/step - loss: 1.0304 - accuracy: 0.5341 - val_loss: 1.1133 - val_accuracy: 0.5026\n",
            "Epoch 17/20\n",
            "39907/39907 [==============================] - 2s 60us/step - loss: 1.0239 - accuracy: 0.5343 - val_loss: 1.1039 - val_accuracy: 0.5050\n",
            "Epoch 18/20\n",
            "39907/39907 [==============================] - 2s 61us/step - loss: 1.0171 - accuracy: 0.5403 - val_loss: 1.0737 - val_accuracy: 0.5055\n",
            "Epoch 19/20\n",
            "39907/39907 [==============================] - 3s 64us/step - loss: 1.0101 - accuracy: 0.5419 - val_loss: 1.0687 - val_accuracy: 0.5126\n",
            "Epoch 20/20\n",
            "39907/39907 [==============================] - 2s 60us/step - loss: 1.0053 - accuracy: 0.5430 - val_loss: 1.0708 - val_accuracy: 0.5117\n",
            "10\n",
            "(40049, 2, 128) (40049, 10) (2049, 2, 128) (2049, 10)\n",
            "Train on 40049 samples, validate on 2049 samples\n",
            "Epoch 1/20\n",
            "40049/40049 [==============================] - 2s 61us/step - loss: 1.0464 - accuracy: 0.5277 - val_loss: 1.0343 - val_accuracy: 0.5305\n",
            "Epoch 2/20\n",
            "40049/40049 [==============================] - 2s 59us/step - loss: 1.0304 - accuracy: 0.5356 - val_loss: 1.0144 - val_accuracy: 0.5432\n",
            "Epoch 3/20\n",
            "40049/40049 [==============================] - 2s 58us/step - loss: 1.0190 - accuracy: 0.5406 - val_loss: 1.0206 - val_accuracy: 0.5334\n",
            "Epoch 4/20\n",
            "40049/40049 [==============================] - 2s 58us/step - loss: 1.0079 - accuracy: 0.5431 - val_loss: 1.0181 - val_accuracy: 0.5368\n",
            "Epoch 5/20\n",
            "40049/40049 [==============================] - 2s 58us/step - loss: 1.0032 - accuracy: 0.5457 - val_loss: 1.0224 - val_accuracy: 0.5393\n",
            "Epoch 6/20\n",
            "40049/40049 [==============================] - 2s 59us/step - loss: 0.9948 - accuracy: 0.5470 - val_loss: 1.0191 - val_accuracy: 0.5329\n",
            "Epoch 7/20\n",
            "40049/40049 [==============================] - 2s 60us/step - loss: 0.9886 - accuracy: 0.5506 - val_loss: 1.0111 - val_accuracy: 0.5334\n",
            "Epoch 8/20\n",
            "40049/40049 [==============================] - 2s 59us/step - loss: 0.9835 - accuracy: 0.5523 - val_loss: 1.0015 - val_accuracy: 0.5427\n",
            "Epoch 9/20\n",
            "40049/40049 [==============================] - 2s 59us/step - loss: 0.9778 - accuracy: 0.5558 - val_loss: 1.0075 - val_accuracy: 0.5486\n",
            "Epoch 10/20\n",
            "40049/40049 [==============================] - 2s 58us/step - loss: 0.9698 - accuracy: 0.5567 - val_loss: 1.0087 - val_accuracy: 0.5305\n",
            "Epoch 11/20\n",
            "40049/40049 [==============================] - 2s 59us/step - loss: 0.9692 - accuracy: 0.5575 - val_loss: 0.9844 - val_accuracy: 0.5564\n",
            "Epoch 12/20\n",
            "40049/40049 [==============================] - 2s 60us/step - loss: 0.9607 - accuracy: 0.5612 - val_loss: 1.0085 - val_accuracy: 0.5359\n",
            "Epoch 13/20\n",
            "40049/40049 [==============================] - 2s 60us/step - loss: 0.9576 - accuracy: 0.5607 - val_loss: 0.9953 - val_accuracy: 0.5588\n",
            "Epoch 14/20\n",
            "40049/40049 [==============================] - 2s 59us/step - loss: 0.9543 - accuracy: 0.5645 - val_loss: 0.9867 - val_accuracy: 0.5422\n",
            "Epoch 15/20\n",
            "40049/40049 [==============================] - 2s 59us/step - loss: 0.9463 - accuracy: 0.5677 - val_loss: 0.9895 - val_accuracy: 0.5481\n",
            "Epoch 16/20\n",
            "40049/40049 [==============================] - 2s 58us/step - loss: 0.9426 - accuracy: 0.5693 - val_loss: 0.9712 - val_accuracy: 0.5481\n",
            "Epoch 17/20\n",
            "40049/40049 [==============================] - 2s 60us/step - loss: 0.9402 - accuracy: 0.5673 - val_loss: 0.9806 - val_accuracy: 0.5520\n",
            "Epoch 18/20\n",
            "40049/40049 [==============================] - 2s 60us/step - loss: 0.9359 - accuracy: 0.5687 - val_loss: 0.9634 - val_accuracy: 0.5622\n",
            "Epoch 19/20\n",
            "40049/40049 [==============================] - 2s 60us/step - loss: 0.9338 - accuracy: 0.5702 - val_loss: 0.9801 - val_accuracy: 0.5539\n",
            "Epoch 20/20\n",
            "40049/40049 [==============================] - 2s 60us/step - loss: 0.9270 - accuracy: 0.5740 - val_loss: 0.9781 - val_accuracy: 0.5393\n",
            "12\n",
            "(39800, 2, 128) (39800, 10) (2152, 2, 128) (2152, 10)\n",
            "Train on 39800 samples, validate on 2152 samples\n",
            "Epoch 1/20\n",
            "39800/39800 [==============================] - 2s 62us/step - loss: 0.9775 - accuracy: 0.5544 - val_loss: 0.9661 - val_accuracy: 0.5678\n",
            "Epoch 2/20\n",
            "39800/39800 [==============================] - 2s 61us/step - loss: 0.9597 - accuracy: 0.5630 - val_loss: 0.9493 - val_accuracy: 0.5627\n",
            "Epoch 3/20\n",
            "39800/39800 [==============================] - 2s 62us/step - loss: 0.9471 - accuracy: 0.5673 - val_loss: 0.9541 - val_accuracy: 0.5711\n",
            "Epoch 4/20\n",
            "39800/39800 [==============================] - 2s 62us/step - loss: 0.9424 - accuracy: 0.5664 - val_loss: 0.9585 - val_accuracy: 0.5613\n",
            "Epoch 5/20\n",
            "39800/39800 [==============================] - 2s 61us/step - loss: 0.9349 - accuracy: 0.5688 - val_loss: 0.9584 - val_accuracy: 0.5613\n",
            "Epoch 6/20\n",
            "39800/39800 [==============================] - 2s 61us/step - loss: 0.9289 - accuracy: 0.5720 - val_loss: 0.9561 - val_accuracy: 0.5613\n",
            "Epoch 7/20\n",
            "39800/39800 [==============================] - 2s 61us/step - loss: 0.9261 - accuracy: 0.5724 - val_loss: 0.9458 - val_accuracy: 0.5753\n",
            "Epoch 8/20\n",
            "39800/39800 [==============================] - 2s 62us/step - loss: 0.9198 - accuracy: 0.5757 - val_loss: 0.9531 - val_accuracy: 0.5613\n",
            "Epoch 9/20\n",
            "39800/39800 [==============================] - 2s 62us/step - loss: 0.9160 - accuracy: 0.5758 - val_loss: 0.9501 - val_accuracy: 0.5655\n",
            "Epoch 10/20\n",
            "39800/39800 [==============================] - 2s 63us/step - loss: 0.9128 - accuracy: 0.5769 - val_loss: 0.9407 - val_accuracy: 0.5595\n",
            "Epoch 11/20\n",
            "39800/39800 [==============================] - 2s 61us/step - loss: 0.9070 - accuracy: 0.5784 - val_loss: 0.9330 - val_accuracy: 0.5757\n",
            "Epoch 12/20\n",
            "39800/39800 [==============================] - 2s 60us/step - loss: 0.9015 - accuracy: 0.5822 - val_loss: 0.9370 - val_accuracy: 0.5683\n",
            "Epoch 13/20\n",
            "39800/39800 [==============================] - 2s 61us/step - loss: 0.9017 - accuracy: 0.5806 - val_loss: 0.9510 - val_accuracy: 0.5697\n",
            "Epoch 14/20\n",
            "39800/39800 [==============================] - 2s 61us/step - loss: 0.8962 - accuracy: 0.5818 - val_loss: 0.9434 - val_accuracy: 0.5548\n",
            "Epoch 15/20\n",
            "39800/39800 [==============================] - 2s 60us/step - loss: 0.8942 - accuracy: 0.5830 - val_loss: 0.9323 - val_accuracy: 0.5660\n",
            "Epoch 16/20\n",
            "39800/39800 [==============================] - 2s 60us/step - loss: 0.8905 - accuracy: 0.5824 - val_loss: 0.9377 - val_accuracy: 0.5623\n",
            "Epoch 17/20\n",
            "39800/39800 [==============================] - 2s 61us/step - loss: 0.8865 - accuracy: 0.5862 - val_loss: 0.9295 - val_accuracy: 0.5651\n",
            "Epoch 18/20\n",
            "39800/39800 [==============================] - 2s 62us/step - loss: 0.8836 - accuracy: 0.5851 - val_loss: 0.9363 - val_accuracy: 0.5748\n",
            "Epoch 19/20\n",
            "39800/39800 [==============================] - 2s 61us/step - loss: 0.8818 - accuracy: 0.5849 - val_loss: 0.9445 - val_accuracy: 0.5692\n",
            "Epoch 20/20\n",
            "39800/39800 [==============================] - 2s 62us/step - loss: 0.8823 - accuracy: 0.5840 - val_loss: 0.9382 - val_accuracy: 0.5609\n",
            "14\n",
            "(40004, 2, 128) (40004, 10) (2029, 2, 128) (2029, 10)\n",
            "Train on 40004 samples, validate on 2029 samples\n",
            "Epoch 1/20\n",
            "40004/40004 [==============================] - 2s 62us/step - loss: 0.9353 - accuracy: 0.5723 - val_loss: 0.9269 - val_accuracy: 0.5643\n",
            "Epoch 2/20\n",
            "40004/40004 [==============================] - 2s 62us/step - loss: 0.9164 - accuracy: 0.5756 - val_loss: 0.9257 - val_accuracy: 0.5653\n",
            "Epoch 3/20\n",
            "40004/40004 [==============================] - 3s 65us/step - loss: 0.9069 - accuracy: 0.5780 - val_loss: 0.9186 - val_accuracy: 0.5683\n",
            "Epoch 4/20\n",
            "40004/40004 [==============================] - 3s 68us/step - loss: 0.8974 - accuracy: 0.5857 - val_loss: 0.9226 - val_accuracy: 0.5781\n",
            "Epoch 5/20\n",
            "40004/40004 [==============================] - 3s 66us/step - loss: 0.8926 - accuracy: 0.5841 - val_loss: 0.9165 - val_accuracy: 0.5766\n",
            "Epoch 6/20\n",
            "40004/40004 [==============================] - 2s 59us/step - loss: 0.8869 - accuracy: 0.5865 - val_loss: 0.8952 - val_accuracy: 0.5875\n",
            "Epoch 7/20\n",
            "40004/40004 [==============================] - 2s 58us/step - loss: 0.8810 - accuracy: 0.5879 - val_loss: 0.9123 - val_accuracy: 0.5771\n",
            "Epoch 8/20\n",
            "40004/40004 [==============================] - 2s 59us/step - loss: 0.8779 - accuracy: 0.5862 - val_loss: 0.9001 - val_accuracy: 0.5821\n",
            "Epoch 9/20\n",
            "40004/40004 [==============================] - 2s 59us/step - loss: 0.8745 - accuracy: 0.5913 - val_loss: 0.9094 - val_accuracy: 0.5919\n",
            "Epoch 10/20\n",
            "40004/40004 [==============================] - 2s 59us/step - loss: 0.8692 - accuracy: 0.5922 - val_loss: 0.9108 - val_accuracy: 0.5599\n",
            "Epoch 11/20\n",
            "40004/40004 [==============================] - 2s 59us/step - loss: 0.8659 - accuracy: 0.5901 - val_loss: 0.8988 - val_accuracy: 0.5697\n",
            "Epoch 12/20\n",
            "40004/40004 [==============================] - 2s 59us/step - loss: 0.8616 - accuracy: 0.5939 - val_loss: 0.8975 - val_accuracy: 0.5801\n",
            "Epoch 13/20\n",
            "40004/40004 [==============================] - 2s 58us/step - loss: 0.8568 - accuracy: 0.5948 - val_loss: 0.8924 - val_accuracy: 0.5983\n",
            "Epoch 14/20\n",
            "40004/40004 [==============================] - 2s 58us/step - loss: 0.8564 - accuracy: 0.5967 - val_loss: 0.9080 - val_accuracy: 0.5766\n",
            "Epoch 15/20\n",
            "40004/40004 [==============================] - 2s 59us/step - loss: 0.8524 - accuracy: 0.5970 - val_loss: 0.8924 - val_accuracy: 0.5919\n",
            "Epoch 16/20\n",
            "40004/40004 [==============================] - 2s 60us/step - loss: 0.8488 - accuracy: 0.5988 - val_loss: 0.8894 - val_accuracy: 0.5752\n",
            "Epoch 17/20\n",
            "40004/40004 [==============================] - 3s 63us/step - loss: 0.8467 - accuracy: 0.5975 - val_loss: 0.8897 - val_accuracy: 0.5712\n",
            "Epoch 18/20\n",
            "40004/40004 [==============================] - 2s 62us/step - loss: 0.8428 - accuracy: 0.5998 - val_loss: 0.8919 - val_accuracy: 0.5830\n",
            "Epoch 19/20\n",
            "40004/40004 [==============================] - 2s 61us/step - loss: 0.8419 - accuracy: 0.5991 - val_loss: 0.8954 - val_accuracy: 0.5702\n",
            "Epoch 20/20\n",
            "40004/40004 [==============================] - 2s 62us/step - loss: 0.8398 - accuracy: 0.6002 - val_loss: 0.8799 - val_accuracy: 0.5845\n",
            "16\n",
            "(39960, 2, 128) (39960, 10) (2090, 2, 128) (2090, 10)\n",
            "Train on 39960 samples, validate on 2090 samples\n",
            "Epoch 1/20\n",
            "39960/39960 [==============================] - 2s 62us/step - loss: 0.8928 - accuracy: 0.5850 - val_loss: 0.8684 - val_accuracy: 0.5842\n",
            "Epoch 2/20\n",
            "39960/39960 [==============================] - 2s 61us/step - loss: 0.8757 - accuracy: 0.5905 - val_loss: 0.8780 - val_accuracy: 0.5789\n",
            "Epoch 3/20\n",
            "39960/39960 [==============================] - 3s 63us/step - loss: 0.8647 - accuracy: 0.5927 - val_loss: 0.8727 - val_accuracy: 0.5904\n",
            "Epoch 4/20\n",
            "39960/39960 [==============================] - 2s 62us/step - loss: 0.8571 - accuracy: 0.5945 - val_loss: 0.8743 - val_accuracy: 0.5900\n",
            "Epoch 5/20\n",
            "39960/39960 [==============================] - 3s 63us/step - loss: 0.8520 - accuracy: 0.5981 - val_loss: 0.8635 - val_accuracy: 0.5919\n",
            "Epoch 6/20\n",
            "39960/39960 [==============================] - 2s 62us/step - loss: 0.8480 - accuracy: 0.5982 - val_loss: 0.8893 - val_accuracy: 0.5890\n",
            "Epoch 7/20\n",
            "39960/39960 [==============================] - 2s 62us/step - loss: 0.8450 - accuracy: 0.6001 - val_loss: 0.8655 - val_accuracy: 0.5818\n",
            "Epoch 8/20\n",
            "39960/39960 [==============================] - 2s 62us/step - loss: 0.8402 - accuracy: 0.6013 - val_loss: 0.8672 - val_accuracy: 0.5775\n",
            "Epoch 9/20\n",
            "39960/39960 [==============================] - 2s 62us/step - loss: 0.8351 - accuracy: 0.6041 - val_loss: 0.8544 - val_accuracy: 0.5809\n",
            "Epoch 10/20\n",
            "39960/39960 [==============================] - 3s 63us/step - loss: 0.8319 - accuracy: 0.6055 - val_loss: 0.8604 - val_accuracy: 0.5943\n",
            "Epoch 11/20\n",
            "39960/39960 [==============================] - 2s 62us/step - loss: 0.8324 - accuracy: 0.6039 - val_loss: 0.8655 - val_accuracy: 0.5871\n",
            "Epoch 12/20\n",
            "39960/39960 [==============================] - 2s 61us/step - loss: 0.8267 - accuracy: 0.6057 - val_loss: 0.8663 - val_accuracy: 0.5923\n",
            "Epoch 13/20\n",
            "39960/39960 [==============================] - 2s 62us/step - loss: 0.8253 - accuracy: 0.6075 - val_loss: 0.8741 - val_accuracy: 0.5833\n",
            "Epoch 14/20\n",
            "39960/39960 [==============================] - 2s 61us/step - loss: 0.8211 - accuracy: 0.6092 - val_loss: 0.8631 - val_accuracy: 0.6010\n",
            "Epoch 15/20\n",
            "39960/39960 [==============================] - 2s 62us/step - loss: 0.8210 - accuracy: 0.6076 - val_loss: 0.8675 - val_accuracy: 0.5737\n",
            "Epoch 16/20\n",
            "39960/39960 [==============================] - 2s 62us/step - loss: 0.8173 - accuracy: 0.6092 - val_loss: 0.8726 - val_accuracy: 0.5837\n",
            "Epoch 17/20\n",
            "39960/39960 [==============================] - 2s 62us/step - loss: 0.8133 - accuracy: 0.6125 - val_loss: 0.8710 - val_accuracy: 0.5904\n",
            "Epoch 18/20\n",
            "39960/39960 [==============================] - 2s 60us/step - loss: 0.8112 - accuracy: 0.6140 - val_loss: 0.8659 - val_accuracy: 0.5981\n",
            "Epoch 19/20\n",
            "39960/39960 [==============================] - 2s 62us/step - loss: 0.8100 - accuracy: 0.6123 - val_loss: 0.9082 - val_accuracy: 0.5694\n",
            "Epoch 20/20\n",
            "39960/39960 [==============================] - 3s 63us/step - loss: 0.8083 - accuracy: 0.6139 - val_loss: 0.8697 - val_accuracy: 0.5933\n",
            "18\n",
            "(39863, 2, 128) (39863, 10) (2088, 2, 128) (2088, 10)\n",
            "Train on 39863 samples, validate on 2088 samples\n",
            "Epoch 1/20\n",
            "39863/39863 [==============================] - 2s 62us/step - loss: 0.8730 - accuracy: 0.5907 - val_loss: 0.8247 - val_accuracy: 0.6207\n",
            "Epoch 2/20\n",
            "39863/39863 [==============================] - 2s 61us/step - loss: 0.8497 - accuracy: 0.5998 - val_loss: 0.8079 - val_accuracy: 0.6403\n",
            "Epoch 3/20\n",
            "39863/39863 [==============================] - 2s 60us/step - loss: 0.8404 - accuracy: 0.6029 - val_loss: 0.8029 - val_accuracy: 0.6303\n",
            "Epoch 4/20\n",
            "39863/39863 [==============================] - 2s 63us/step - loss: 0.8315 - accuracy: 0.6045 - val_loss: 0.8021 - val_accuracy: 0.6269\n",
            "Epoch 5/20\n",
            "39863/39863 [==============================] - 2s 62us/step - loss: 0.8267 - accuracy: 0.6040 - val_loss: 0.7984 - val_accuracy: 0.6331\n",
            "Epoch 6/20\n",
            "39863/39863 [==============================] - 2s 63us/step - loss: 0.8235 - accuracy: 0.6067 - val_loss: 0.7926 - val_accuracy: 0.6336\n",
            "Epoch 7/20\n",
            "39863/39863 [==============================] - 3s 63us/step - loss: 0.8191 - accuracy: 0.6123 - val_loss: 0.8050 - val_accuracy: 0.6317\n",
            "Epoch 8/20\n",
            "39863/39863 [==============================] - 3s 63us/step - loss: 0.8145 - accuracy: 0.6095 - val_loss: 0.7989 - val_accuracy: 0.6389\n",
            "Epoch 9/20\n",
            "39863/39863 [==============================] - 3s 63us/step - loss: 0.8104 - accuracy: 0.6101 - val_loss: 0.8040 - val_accuracy: 0.6298\n",
            "Epoch 10/20\n",
            "39863/39863 [==============================] - 3s 64us/step - loss: 0.8078 - accuracy: 0.6122 - val_loss: 0.7941 - val_accuracy: 0.6327\n",
            "Epoch 11/20\n",
            "39863/39863 [==============================] - 2s 63us/step - loss: 0.8041 - accuracy: 0.6156 - val_loss: 0.8055 - val_accuracy: 0.6293\n",
            "Epoch 12/20\n",
            "39863/39863 [==============================] - 3s 63us/step - loss: 0.8005 - accuracy: 0.6135 - val_loss: 0.7952 - val_accuracy: 0.6264\n",
            "Epoch 13/20\n",
            "39863/39863 [==============================] - 3s 67us/step - loss: 0.8010 - accuracy: 0.6153 - val_loss: 0.8175 - val_accuracy: 0.6125\n",
            "Epoch 14/20\n",
            "39863/39863 [==============================] - 3s 70us/step - loss: 0.7949 - accuracy: 0.6199 - val_loss: 0.8060 - val_accuracy: 0.6451\n",
            "Epoch 15/20\n",
            "39863/39863 [==============================] - 3s 72us/step - loss: 0.7955 - accuracy: 0.6167 - val_loss: 0.8173 - val_accuracy: 0.6384\n",
            "Epoch 16/20\n",
            "39863/39863 [==============================] - 3s 71us/step - loss: 0.7925 - accuracy: 0.6186 - val_loss: 0.7993 - val_accuracy: 0.6331\n",
            "Epoch 17/20\n",
            "39863/39863 [==============================] - 2s 61us/step - loss: 0.7918 - accuracy: 0.6192 - val_loss: 0.7936 - val_accuracy: 0.6365\n",
            "Epoch 18/20\n",
            "39863/39863 [==============================] - 2s 60us/step - loss: 0.7856 - accuracy: 0.6213 - val_loss: 0.8121 - val_accuracy: 0.6269\n",
            "Epoch 19/20\n",
            "39863/39863 [==============================] - 2s 59us/step - loss: 0.7842 - accuracy: 0.6250 - val_loss: 0.8139 - val_accuracy: 0.6293\n",
            "Epoch 20/20\n",
            "39863/39863 [==============================] - 2s 58us/step - loss: 0.7819 - accuracy: 0.6237 - val_loss: 0.7970 - val_accuracy: 0.6264\n"
          ],
          "name": "stdout"
        }
      ]
    },
    {
      "cell_type": "code",
      "metadata": {
        "id": "7vaiPpMfCHoz",
        "colab_type": "code",
        "colab": {
          "base_uri": "https://localhost:8080/",
          "height": 34
        },
        "outputId": "a4bf20ca-e809-4733-f91a-827eb9d7cd75"
      },
      "source": [
        "np.argmax(model.predict(data_test))"
      ],
      "execution_count": null,
      "outputs": [
        {
          "output_type": "execute_result",
          "data": {
            "text/plain": [
              "381365"
            ]
          },
          "metadata": {
            "tags": []
          },
          "execution_count": 18
        }
      ]
    },
    {
      "cell_type": "code",
      "metadata": {
        "id": "qQekdq2aCKAD",
        "colab_type": "code",
        "colab": {
          "base_uri": "https://localhost:8080/",
          "height": 300
        },
        "outputId": "b2843841-d540-4d33-97aa-52a154b9e4f9"
      },
      "source": [
        "print(history[19].history['val_accuracy'][-1])\n",
        "val_acc=[]\n",
        "accu=[]\n",
        "for i in range(len(snrs)):\n",
        "  val_acc.append(history[i].history['val_accuracy'][-1])\n",
        "  accu.append(history[i].history['accuracy'][-1])\n",
        "\n",
        "\n",
        "plt.plot(snrs,accu, label='accuracy',marker=\".\")\n",
        "plt.plot(snrs,val_acc, label = 'val_accuracy',marker=\"*\")\n",
        "plt.xlabel('SNR')\n",
        "plt.ylabel('Accuracy')\n",
        "plt.ylim([0,0.7])\n",
        "plt.xlim([-20,18])\n",
        "plt.grid(b=True)\n",
        "plt.legend(loc='lower right')\n",
        "plt.show()"
      ],
      "execution_count": null,
      "outputs": [
        {
          "output_type": "stream",
          "text": [
            "0.6264367699623108\n"
          ],
          "name": "stdout"
        },
        {
          "output_type": "display_data",
          "data": {
            "image/png": "[encoded data removed]",
            "text/plain": [
              "<Figure size 432x288 with 1 Axes>"
            ]
          },
          "metadata": {
            "tags": [],
            "needs_background": "light"
          }
        }
      ]
    },
    {
      "cell_type": "markdown",
      "metadata": {
        "id": "OFC4xxMENJBC",
        "colab_type": "text"
      },
      "source": [
        "**Derivative**"
      ]
    },
    {
      "cell_type": "code",
      "metadata": {
        "id": "42p2WPj4CM2o",
        "colab_type": "code",
        "colab": {}
      },
      "source": [
        "labels_train_validate , labels_test , data_train_validate , data_test = train_test_split(labels,derivative,test_size=0.3,random_state=42)\n",
        "labels_train , labels_validate , data_train , data_validate = train_test_split(labels_train_validate,data_train_validate,test_size=0.05,random_state=42)\n",
        "\n",
        "resized_data_train= data_train.reshape(798000,2*128)\n",
        "resized_data_test=data_test.reshape(360000,2*128)"
      ],
      "execution_count": null,
      "outputs": []
    },
    {
      "cell_type": "code",
      "metadata": {
        "id": "qYmXVf-1NR_g",
        "colab_type": "code",
        "colab": {}
      },
      "source": [
        "lbls_train=[]\n",
        "snrs_train=[]\n",
        "for i in range(len(labels_train)):\n",
        "  lbls_train.append(labels_train[i][0])\n",
        "  snrs_train.append(labels_train[i][1])\n",
        "\n",
        "lbls_test=[]\n",
        "snrs_test=[]\n",
        "for i in range(len(labels_test)):\n",
        "  lbls_test.append(labels_test[i][0])\n",
        "  snrs_test.append(labels_test[i][1])\n",
        "\n",
        "lbls_val=[]\n",
        "snrs_val=[]\n",
        "for i in range(len(labels_validate)):\n",
        "  lbls_val.append(labels_validate[i][0])\n",
        "  snrs_val.append(labels_validate[i][1])\n",
        "\n",
        "lbls_test = np.array(lbls_test)\n",
        "snrs_test = np.array(snrs_test)"
      ],
      "execution_count": null,
      "outputs": []
    },
    {
      "cell_type": "code",
      "metadata": {
        "id": "jaeNLe4oNWHm",
        "colab_type": "code",
        "colab": {
          "base_uri": "https://localhost:8080/",
          "height": 1000
        },
        "outputId": "933e55b0-ea4d-46c6-ee8d-6cace20d86e6"
      },
      "source": [
        "#model.compile(optimizer='adam',loss='mean_absolute_percentage_error',metrics=['accuracy'])\n",
        "model.compile(optimizer='adam',loss='categorical_crossentropy',metrics=['accuracy'])\n",
        "\n",
        "data_validate=np.array(data_validate)\n",
        "snrs_val=np.array(snrs_val)\n",
        "lbls_val=np.array(lbls_val)\n",
        "history=[]\n",
        "data_train=np.array(data_train)\n",
        "snrs_train=np.array(snrs_train)\n",
        "lbls_train=np.array(lbls_train)\n",
        "for snr in snrs:\n",
        "  print (snr)\n",
        "  data_train_snr=data_train[np.where(snrs_train==snr)]\n",
        "  mod_test_snr=lbls_train[np.where(snrs_train==snr)]\n",
        "  data_val_snr=data_validate[np.where(snrs_val==snr)]\n",
        "  mod_val_snr=lbls_val[np.where(snrs_val==snr)]\n",
        "  print(data_train_snr.shape,le.transform(mod_test_snr).shape,data_val_snr.shape,le.transform(mod_val_snr).shape)\n",
        "  history.append(model.fit(data_train_snr,le.transform(mod_test_snr),epochs=20,batch_size=64,validation_data=(data_val_snr,le.transform(mod_val_snr))))"
      ],
      "execution_count": null,
      "outputs": [
        {
          "output_type": "stream",
          "text": [
            "-20\n",
            "(39907, 2, 128) (39907, 10) (2087, 2, 128) (2087, 10)\n",
            "Train on 39907 samples, validate on 2087 samples\n",
            "Epoch 1/20\n",
            "39907/39907 [==============================] - 3s 64us/step - loss: 2.5638 - accuracy: 0.0965 - val_loss: 2.3275 - val_accuracy: 0.0982\n",
            "Epoch 2/20\n",
            "39907/39907 [==============================] - 2s 60us/step - loss: 2.3180 - accuracy: 0.1034 - val_loss: 2.3167 - val_accuracy: 0.1126\n",
            "Epoch 3/20\n",
            "39907/39907 [==============================] - 2s 60us/step - loss: 2.3113 - accuracy: 0.1052 - val_loss: 2.3269 - val_accuracy: 0.0958\n",
            "Epoch 4/20\n",
            "39907/39907 [==============================] - 2s 61us/step - loss: 2.3073 - accuracy: 0.1084 - val_loss: 2.3141 - val_accuracy: 0.0973\n",
            "Epoch 5/20\n",
            "39907/39907 [==============================] - 2s 61us/step - loss: 2.3023 - accuracy: 0.1118 - val_loss: 2.3355 - val_accuracy: 0.1011\n",
            "Epoch 6/20\n",
            "39907/39907 [==============================] - 2s 60us/step - loss: 2.2996 - accuracy: 0.1120 - val_loss: 2.3292 - val_accuracy: 0.0934\n",
            "Epoch 7/20\n",
            "39907/39907 [==============================] - 2s 60us/step - loss: 2.2971 - accuracy: 0.1144 - val_loss: 2.3195 - val_accuracy: 0.0934\n",
            "Epoch 8/20\n",
            "39907/39907 [==============================] - 2s 61us/step - loss: 2.2931 - accuracy: 0.1188 - val_loss: 2.3201 - val_accuracy: 0.1025\n",
            "Epoch 9/20\n",
            "39907/39907 [==============================] - 2s 61us/step - loss: 2.2896 - accuracy: 0.1216 - val_loss: 2.3339 - val_accuracy: 0.0973\n",
            "Epoch 10/20\n",
            "39907/39907 [==============================] - 2s 60us/step - loss: 2.2855 - accuracy: 0.1272 - val_loss: 2.3284 - val_accuracy: 0.1030\n",
            "Epoch 11/20\n",
            "39907/39907 [==============================] - 2s 61us/step - loss: 2.2823 - accuracy: 0.1295 - val_loss: 2.3367 - val_accuracy: 0.0987\n",
            "Epoch 12/20\n",
            "39907/39907 [==============================] - 2s 61us/step - loss: 2.2791 - accuracy: 0.1308 - val_loss: 2.3346 - val_accuracy: 0.0915\n",
            "Epoch 13/20\n",
            "39907/39907 [==============================] - 2s 59us/step - loss: 2.2749 - accuracy: 0.1315 - val_loss: 2.3429 - val_accuracy: 0.1064\n",
            "Epoch 14/20\n",
            "39907/39907 [==============================] - 2s 60us/step - loss: 2.2712 - accuracy: 0.1360 - val_loss: 2.3340 - val_accuracy: 0.0958\n",
            "Epoch 15/20\n",
            "39907/39907 [==============================] - 2s 60us/step - loss: 2.2694 - accuracy: 0.1336 - val_loss: 2.3406 - val_accuracy: 0.1021\n",
            "Epoch 16/20\n",
            "39907/39907 [==============================] - 2s 61us/step - loss: 2.2649 - accuracy: 0.1374 - val_loss: 2.3472 - val_accuracy: 0.0901\n",
            "Epoch 17/20\n",
            "39907/39907 [==============================] - 2s 60us/step - loss: 2.2622 - accuracy: 0.1409 - val_loss: 2.3539 - val_accuracy: 0.1016\n",
            "Epoch 18/20\n",
            "39907/39907 [==============================] - 2s 61us/step - loss: 2.2592 - accuracy: 0.1415 - val_loss: 2.3613 - val_accuracy: 0.0963\n",
            "Epoch 19/20\n",
            "39907/39907 [==============================] - 2s 58us/step - loss: 2.2546 - accuracy: 0.1451 - val_loss: 2.3592 - val_accuracy: 0.0910\n",
            "Epoch 20/20\n",
            "39907/39907 [==============================] - 2s 60us/step - loss: 2.2516 - accuracy: 0.1427 - val_loss: 2.3584 - val_accuracy: 0.0949\n",
            "-18\n",
            "(39837, 2, 128) (39837, 10) (2097, 2, 128) (2097, 10)\n",
            "Train on 39837 samples, validate on 2097 samples\n",
            "Epoch 1/20\n",
            "39837/39837 [==============================] - 2s 59us/step - loss: 2.3211 - accuracy: 0.0987 - val_loss: 2.3077 - val_accuracy: 0.1082\n",
            "Epoch 2/20\n",
            "39837/39837 [==============================] - 2s 59us/step - loss: 2.3095 - accuracy: 0.1017 - val_loss: 2.3123 - val_accuracy: 0.0963\n",
            "Epoch 3/20\n",
            "39837/39837 [==============================] - 2s 59us/step - loss: 2.3055 - accuracy: 0.1050 - val_loss: 2.3111 - val_accuracy: 0.1016\n",
            "Epoch 4/20\n",
            "39837/39837 [==============================] - 2s 59us/step - loss: 2.3034 - accuracy: 0.1084 - val_loss: 2.3098 - val_accuracy: 0.1063\n",
            "Epoch 5/20\n",
            "39837/39837 [==============================] - 2s 59us/step - loss: 2.3010 - accuracy: 0.1101 - val_loss: 2.3070 - val_accuracy: 0.1059\n",
            "Epoch 6/20\n",
            "39837/39837 [==============================] - 2s 60us/step - loss: 2.2987 - accuracy: 0.1125 - val_loss: 2.3165 - val_accuracy: 0.0901\n",
            "Epoch 7/20\n",
            "39837/39837 [==============================] - 2s 60us/step - loss: 2.2964 - accuracy: 0.1146 - val_loss: 2.3116 - val_accuracy: 0.1073\n",
            "Epoch 8/20\n",
            "39837/39837 [==============================] - 2s 59us/step - loss: 2.2943 - accuracy: 0.1171 - val_loss: 2.3242 - val_accuracy: 0.0920\n",
            "Epoch 9/20\n",
            "39837/39837 [==============================] - 2s 59us/step - loss: 2.2911 - accuracy: 0.1219 - val_loss: 2.3159 - val_accuracy: 0.1063\n",
            "Epoch 10/20\n",
            "39837/39837 [==============================] - 2s 59us/step - loss: 2.2863 - accuracy: 0.1224 - val_loss: 2.3189 - val_accuracy: 0.1063\n",
            "Epoch 11/20\n",
            "39837/39837 [==============================] - 2s 60us/step - loss: 2.2836 - accuracy: 0.1252 - val_loss: 2.3232 - val_accuracy: 0.0939\n",
            "Epoch 12/20\n",
            "39837/39837 [==============================] - 2s 58us/step - loss: 2.2791 - accuracy: 0.1288 - val_loss: 2.3234 - val_accuracy: 0.0982\n",
            "Epoch 13/20\n",
            "39837/39837 [==============================] - 2s 58us/step - loss: 2.2758 - accuracy: 0.1320 - val_loss: 2.3246 - val_accuracy: 0.1016\n",
            "Epoch 14/20\n",
            "39837/39837 [==============================] - 2s 59us/step - loss: 2.2706 - accuracy: 0.1358 - val_loss: 2.3326 - val_accuracy: 0.1006\n",
            "Epoch 15/20\n",
            "39837/39837 [==============================] - 2s 58us/step - loss: 2.2663 - accuracy: 0.1358 - val_loss: 2.3325 - val_accuracy: 0.1040\n",
            "Epoch 16/20\n",
            "39837/39837 [==============================] - 2s 59us/step - loss: 2.2613 - accuracy: 0.1412 - val_loss: 2.3452 - val_accuracy: 0.0935\n",
            "Epoch 17/20\n",
            "39837/39837 [==============================] - 2s 59us/step - loss: 2.2574 - accuracy: 0.1433 - val_loss: 2.3406 - val_accuracy: 0.0973\n",
            "Epoch 18/20\n",
            "39837/39837 [==============================] - 2s 61us/step - loss: 2.2526 - accuracy: 0.1462 - val_loss: 2.3486 - val_accuracy: 0.0973\n",
            "Epoch 19/20\n",
            "39837/39837 [==============================] - 3s 64us/step - loss: 2.2480 - accuracy: 0.1479 - val_loss: 2.3650 - val_accuracy: 0.0901\n",
            "Epoch 20/20\n",
            "39837/39837 [==============================] - 3s 64us/step - loss: 2.2444 - accuracy: 0.1467 - val_loss: 2.3669 - val_accuracy: 0.0949\n",
            "-16\n",
            "(39763, 2, 128) (39763, 10) (2075, 2, 128) (2075, 10)\n",
            "Train on 39763 samples, validate on 2075 samples\n",
            "Epoch 1/20\n",
            "39763/39763 [==============================] - 3s 64us/step - loss: 2.3164 - accuracy: 0.1001 - val_loss: 2.3067 - val_accuracy: 0.1022\n",
            "Epoch 2/20\n",
            "39763/39763 [==============================] - 2s 62us/step - loss: 2.3072 - accuracy: 0.1012 - val_loss: 2.3054 - val_accuracy: 0.1065\n",
            "Epoch 3/20\n",
            "39763/39763 [==============================] - 2s 58us/step - loss: 2.3043 - accuracy: 0.1034 - val_loss: 2.3074 - val_accuracy: 0.1041\n",
            "Epoch 4/20\n",
            "39763/39763 [==============================] - 2s 59us/step - loss: 2.3026 - accuracy: 0.1055 - val_loss: 2.3053 - val_accuracy: 0.0964\n",
            "Epoch 5/20\n",
            "39763/39763 [==============================] - 2s 59us/step - loss: 2.3002 - accuracy: 0.1093 - val_loss: 2.3033 - val_accuracy: 0.1017\n",
            "Epoch 6/20\n",
            "39763/39763 [==============================] - 2s 59us/step - loss: 2.2987 - accuracy: 0.1096 - val_loss: 2.3093 - val_accuracy: 0.1060\n",
            "Epoch 7/20\n",
            "39763/39763 [==============================] - 2s 58us/step - loss: 2.2965 - accuracy: 0.1129 - val_loss: 2.3056 - val_accuracy: 0.1060\n",
            "Epoch 8/20\n",
            "39763/39763 [==============================] - 2s 59us/step - loss: 2.2934 - accuracy: 0.1186 - val_loss: 2.3094 - val_accuracy: 0.0988\n",
            "Epoch 9/20\n",
            "39763/39763 [==============================] - 2s 59us/step - loss: 2.2900 - accuracy: 0.1212 - val_loss: 2.3094 - val_accuracy: 0.0998\n",
            "Epoch 10/20\n",
            "39763/39763 [==============================] - 2s 59us/step - loss: 2.2860 - accuracy: 0.1231 - val_loss: 2.3100 - val_accuracy: 0.0964\n",
            "Epoch 11/20\n",
            "39763/39763 [==============================] - 2s 59us/step - loss: 2.2823 - accuracy: 0.1276 - val_loss: 2.3145 - val_accuracy: 0.1027\n",
            "Epoch 12/20\n",
            "39763/39763 [==============================] - 2s 59us/step - loss: 2.2779 - accuracy: 0.1299 - val_loss: 2.3226 - val_accuracy: 0.0954\n",
            "Epoch 13/20\n",
            "39763/39763 [==============================] - 2s 58us/step - loss: 2.2731 - accuracy: 0.1298 - val_loss: 2.3275 - val_accuracy: 0.1012\n",
            "Epoch 14/20\n",
            "39763/39763 [==============================] - 2s 58us/step - loss: 2.2685 - accuracy: 0.1331 - val_loss: 2.3227 - val_accuracy: 0.0954\n",
            "Epoch 15/20\n",
            "39763/39763 [==============================] - 2s 58us/step - loss: 2.2630 - accuracy: 0.1347 - val_loss: 2.3383 - val_accuracy: 0.0930\n",
            "Epoch 16/20\n",
            "39763/39763 [==============================] - 2s 58us/step - loss: 2.2581 - accuracy: 0.1394 - val_loss: 2.3403 - val_accuracy: 0.0945\n",
            "Epoch 17/20\n",
            "39763/39763 [==============================] - 2s 58us/step - loss: 2.2527 - accuracy: 0.1415 - val_loss: 2.3535 - val_accuracy: 0.0978\n",
            "Epoch 18/20\n",
            "39763/39763 [==============================] - 2s 58us/step - loss: 2.2493 - accuracy: 0.1429 - val_loss: 2.3540 - val_accuracy: 0.1012\n",
            "Epoch 19/20\n",
            "39763/39763 [==============================] - 2s 59us/step - loss: 2.2439 - accuracy: 0.1445 - val_loss: 2.3538 - val_accuracy: 0.1060\n",
            "Epoch 20/20\n",
            "39763/39763 [==============================] - 2s 59us/step - loss: 2.2388 - accuracy: 0.1460 - val_loss: 2.3573 - val_accuracy: 0.1031\n",
            "-14\n",
            "(39761, 2, 128) (39761, 10) (2114, 2, 128) (2114, 10)\n",
            "Train on 39761 samples, validate on 2114 samples\n",
            "Epoch 1/20\n",
            "39761/39761 [==============================] - 2s 59us/step - loss: 2.3128 - accuracy: 0.1026 - val_loss: 2.3056 - val_accuracy: 0.1026\n",
            "Epoch 2/20\n",
            "39761/39761 [==============================] - 2s 58us/step - loss: 2.3038 - accuracy: 0.1099 - val_loss: 2.3036 - val_accuracy: 0.1017\n",
            "Epoch 3/20\n",
            "39761/39761 [==============================] - 2s 59us/step - loss: 2.3011 - accuracy: 0.1093 - val_loss: 2.3035 - val_accuracy: 0.1102\n",
            "Epoch 4/20\n",
            "39761/39761 [==============================] - 2s 58us/step - loss: 2.2975 - accuracy: 0.1140 - val_loss: 2.3011 - val_accuracy: 0.1116\n",
            "Epoch 5/20\n",
            "39761/39761 [==============================] - 2s 61us/step - loss: 2.2944 - accuracy: 0.1178 - val_loss: 2.3023 - val_accuracy: 0.1178\n",
            "Epoch 6/20\n",
            "39761/39761 [==============================] - 3s 71us/step - loss: 2.2907 - accuracy: 0.1214 - val_loss: 2.3022 - val_accuracy: 0.1178\n",
            "Epoch 7/20\n",
            "39761/39761 [==============================] - 3s 75us/step - loss: 2.2868 - accuracy: 0.1238 - val_loss: 2.3031 - val_accuracy: 0.1074\n",
            "Epoch 8/20\n",
            "39761/39761 [==============================] - 2s 61us/step - loss: 2.2817 - accuracy: 0.1300 - val_loss: 2.3011 - val_accuracy: 0.1254\n",
            "Epoch 9/20\n",
            "39761/39761 [==============================] - 2s 59us/step - loss: 2.2765 - accuracy: 0.1331 - val_loss: 2.3049 - val_accuracy: 0.1206\n",
            "Epoch 10/20\n",
            "39761/39761 [==============================] - 2s 58us/step - loss: 2.2705 - accuracy: 0.1388 - val_loss: 2.3080 - val_accuracy: 0.1164\n",
            "Epoch 11/20\n",
            "39761/39761 [==============================] - 2s 58us/step - loss: 2.2644 - accuracy: 0.1377 - val_loss: 2.3081 - val_accuracy: 0.1187\n",
            "Epoch 12/20\n",
            "39761/39761 [==============================] - 2s 58us/step - loss: 2.2579 - accuracy: 0.1440 - val_loss: 2.3081 - val_accuracy: 0.1183\n",
            "Epoch 13/20\n",
            "39761/39761 [==============================] - 2s 58us/step - loss: 2.2526 - accuracy: 0.1450 - val_loss: 2.3147 - val_accuracy: 0.1187\n",
            "Epoch 14/20\n",
            "39761/39761 [==============================] - 2s 58us/step - loss: 2.2463 - accuracy: 0.1489 - val_loss: 2.3156 - val_accuracy: 0.1202\n",
            "Epoch 15/20\n",
            "39761/39761 [==============================] - 2s 58us/step - loss: 2.2403 - accuracy: 0.1549 - val_loss: 2.3233 - val_accuracy: 0.1244\n",
            "Epoch 16/20\n",
            "39761/39761 [==============================] - 2s 58us/step - loss: 2.2342 - accuracy: 0.1539 - val_loss: 2.3225 - val_accuracy: 0.1216\n",
            "Epoch 17/20\n",
            "39761/39761 [==============================] - 2s 58us/step - loss: 2.2295 - accuracy: 0.1590 - val_loss: 2.3179 - val_accuracy: 0.1145\n",
            "Epoch 18/20\n",
            "39761/39761 [==============================] - 2s 57us/step - loss: 2.2232 - accuracy: 0.1596 - val_loss: 2.3238 - val_accuracy: 0.1192\n",
            "Epoch 19/20\n",
            "39761/39761 [==============================] - 2s 57us/step - loss: 2.2193 - accuracy: 0.1623 - val_loss: 2.3243 - val_accuracy: 0.1178\n",
            "Epoch 20/20\n",
            "39761/39761 [==============================] - 2s 58us/step - loss: 2.2142 - accuracy: 0.1633 - val_loss: 2.3257 - val_accuracy: 0.1235\n",
            "-12\n",
            "(39923, 2, 128) (39923, 10) (2055, 2, 128) (2055, 10)\n",
            "Train on 39923 samples, validate on 2055 samples\n",
            "Epoch 1/20\n",
            "39923/39923 [==============================] - 2s 58us/step - loss: 2.2575 - accuracy: 0.1371 - val_loss: 2.2673 - val_accuracy: 0.1367\n",
            "Epoch 2/20\n",
            "39923/39923 [==============================] - 2s 58us/step - loss: 2.2370 - accuracy: 0.1464 - val_loss: 2.2582 - val_accuracy: 0.1392\n",
            "Epoch 3/20\n",
            "39923/39923 [==============================] - 2s 58us/step - loss: 2.2216 - accuracy: 0.1502 - val_loss: 2.2520 - val_accuracy: 0.1509\n",
            "Epoch 4/20\n",
            "39923/39923 [==============================] - 2s 58us/step - loss: 2.2090 - accuracy: 0.1554 - val_loss: 2.2422 - val_accuracy: 0.1460\n",
            "Epoch 5/20\n",
            "39923/39923 [==============================] - 2s 58us/step - loss: 2.1963 - accuracy: 0.1622 - val_loss: 2.2432 - val_accuracy: 0.1465\n",
            "Epoch 6/20\n",
            "39923/39923 [==============================] - 2s 58us/step - loss: 2.1845 - accuracy: 0.1642 - val_loss: 2.2281 - val_accuracy: 0.1562\n",
            "Epoch 7/20\n",
            "39923/39923 [==============================] - 2s 58us/step - loss: 2.1746 - accuracy: 0.1715 - val_loss: 2.2275 - val_accuracy: 0.1557\n",
            "Epoch 8/20\n",
            "39923/39923 [==============================] - 2s 58us/step - loss: 2.1647 - accuracy: 0.1748 - val_loss: 2.2404 - val_accuracy: 0.1504\n",
            "Epoch 9/20\n",
            "39923/39923 [==============================] - 2s 59us/step - loss: 2.1562 - accuracy: 0.1760 - val_loss: 2.2313 - val_accuracy: 0.1582\n",
            "Epoch 10/20\n",
            "39923/39923 [==============================] - 2s 58us/step - loss: 2.1483 - accuracy: 0.1787 - val_loss: 2.2263 - val_accuracy: 0.1703\n",
            "Epoch 11/20\n",
            "39923/39923 [==============================] - 2s 58us/step - loss: 2.1406 - accuracy: 0.1835 - val_loss: 2.2287 - val_accuracy: 0.1620\n",
            "Epoch 12/20\n",
            "39923/39923 [==============================] - 2s 59us/step - loss: 2.1339 - accuracy: 0.1847 - val_loss: 2.2306 - val_accuracy: 0.1625\n",
            "Epoch 13/20\n",
            "39923/39923 [==============================] - 2s 59us/step - loss: 2.1269 - accuracy: 0.1870 - val_loss: 2.2313 - val_accuracy: 0.1698\n",
            "Epoch 14/20\n",
            "39923/39923 [==============================] - 2s 59us/step - loss: 2.1208 - accuracy: 0.1900 - val_loss: 2.2361 - val_accuracy: 0.1640\n",
            "Epoch 15/20\n",
            "39923/39923 [==============================] - 2s 58us/step - loss: 2.1135 - accuracy: 0.1936 - val_loss: 2.2359 - val_accuracy: 0.1606\n",
            "Epoch 16/20\n",
            "39923/39923 [==============================] - 2s 57us/step - loss: 2.1082 - accuracy: 0.1941 - val_loss: 2.2371 - val_accuracy: 0.1703\n",
            "Epoch 17/20\n",
            "39923/39923 [==============================] - 2s 57us/step - loss: 2.1015 - accuracy: 0.1980 - val_loss: 2.2368 - val_accuracy: 0.1737\n",
            "Epoch 18/20\n",
            "39923/39923 [==============================] - 2s 58us/step - loss: 2.0960 - accuracy: 0.2006 - val_loss: 2.2352 - val_accuracy: 0.1679\n",
            "Epoch 19/20\n",
            "39923/39923 [==============================] - 2s 59us/step - loss: 2.0904 - accuracy: 0.2018 - val_loss: 2.2258 - val_accuracy: 0.1781\n",
            "Epoch 20/20\n",
            "39923/39923 [==============================] - 2s 58us/step - loss: 2.0859 - accuracy: 0.2028 - val_loss: 2.2528 - val_accuracy: 0.1766\n",
            "-10\n",
            "(39769, 2, 128) (39769, 10) (2073, 2, 128) (2073, 10)\n",
            "Train on 39769 samples, validate on 2073 samples\n",
            "Epoch 1/20\n",
            "39769/39769 [==============================] - 2s 58us/step - loss: 2.0772 - accuracy: 0.1984 - val_loss: 2.0827 - val_accuracy: 0.2002\n",
            "Epoch 2/20\n",
            "39769/39769 [==============================] - 2s 57us/step - loss: 2.0491 - accuracy: 0.2061 - val_loss: 2.0606 - val_accuracy: 0.2002\n",
            "Epoch 3/20\n",
            "39769/39769 [==============================] - 2s 58us/step - loss: 2.0285 - accuracy: 0.2121 - val_loss: 2.0566 - val_accuracy: 0.2026\n",
            "Epoch 4/20\n",
            "39769/39769 [==============================] - 2s 58us/step - loss: 2.0143 - accuracy: 0.2193 - val_loss: 2.0468 - val_accuracy: 0.1992\n",
            "Epoch 5/20\n",
            "39769/39769 [==============================] - 2s 58us/step - loss: 2.0000 - accuracy: 0.2212 - val_loss: 2.0419 - val_accuracy: 0.2060\n",
            "Epoch 6/20\n",
            "39769/39769 [==============================] - 2s 58us/step - loss: 1.9879 - accuracy: 0.2274 - val_loss: 2.0495 - val_accuracy: 0.2161\n",
            "Epoch 7/20\n",
            "39769/39769 [==============================] - 2s 58us/step - loss: 1.9779 - accuracy: 0.2299 - val_loss: 2.0392 - val_accuracy: 0.2123\n",
            "Epoch 8/20\n",
            "39769/39769 [==============================] - 2s 58us/step - loss: 1.9679 - accuracy: 0.2344 - val_loss: 2.0387 - val_accuracy: 0.2224\n",
            "Epoch 9/20\n",
            "39769/39769 [==============================] - 2s 57us/step - loss: 1.9595 - accuracy: 0.2376 - val_loss: 2.0331 - val_accuracy: 0.2016\n",
            "Epoch 10/20\n",
            "39769/39769 [==============================] - 2s 58us/step - loss: 1.9502 - accuracy: 0.2403 - val_loss: 2.0318 - val_accuracy: 0.2243\n",
            "Epoch 11/20\n",
            "39769/39769 [==============================] - 2s 58us/step - loss: 1.9415 - accuracy: 0.2416 - val_loss: 2.0328 - val_accuracy: 0.2224\n",
            "Epoch 12/20\n",
            "39769/39769 [==============================] - 2s 61us/step - loss: 1.9348 - accuracy: 0.2462 - val_loss: 2.0359 - val_accuracy: 0.2065\n",
            "Epoch 13/20\n",
            "39769/39769 [==============================] - 3s 65us/step - loss: 1.9260 - accuracy: 0.2459 - val_loss: 2.0342 - val_accuracy: 0.2137\n",
            "Epoch 14/20\n",
            "39769/39769 [==============================] - 3s 63us/step - loss: 1.9194 - accuracy: 0.2496 - val_loss: 2.0353 - val_accuracy: 0.2132\n",
            "Epoch 15/20\n",
            "39769/39769 [==============================] - 3s 68us/step - loss: 1.9134 - accuracy: 0.2531 - val_loss: 2.0371 - val_accuracy: 0.2147\n",
            "Epoch 16/20\n",
            "39769/39769 [==============================] - 3s 71us/step - loss: 1.9048 - accuracy: 0.2576 - val_loss: 2.0400 - val_accuracy: 0.2156\n",
            "Epoch 17/20\n",
            "39769/39769 [==============================] - 4s 92us/step - loss: 1.8975 - accuracy: 0.2591 - val_loss: 2.0333 - val_accuracy: 0.2171\n",
            "Epoch 18/20\n",
            "39769/39769 [==============================] - 3s 84us/step - loss: 1.8915 - accuracy: 0.2634 - val_loss: 2.0408 - val_accuracy: 0.2171\n",
            "Epoch 19/20\n",
            "39769/39769 [==============================] - 3s 72us/step - loss: 1.8853 - accuracy: 0.2666 - val_loss: 2.0402 - val_accuracy: 0.2185\n",
            "Epoch 20/20\n",
            "39769/39769 [==============================] - 3s 71us/step - loss: 1.8791 - accuracy: 0.2651 - val_loss: 2.0482 - val_accuracy: 0.2219\n",
            "-8\n",
            "(40042, 2, 128) (40042, 10) (2103, 2, 128) (2103, 10)\n",
            "Train on 40042 samples, validate on 2103 samples\n",
            "Epoch 1/20\n",
            "40042/40042 [==============================] - 2s 58us/step - loss: 1.8797 - accuracy: 0.2547 - val_loss: 1.8755 - val_accuracy: 0.2606\n",
            "Epoch 2/20\n",
            "40042/40042 [==============================] - 2s 58us/step - loss: 1.8445 - accuracy: 0.2644 - val_loss: 1.8686 - val_accuracy: 0.2649\n",
            "Epoch 3/20\n",
            "40042/40042 [==============================] - 2s 59us/step - loss: 1.8243 - accuracy: 0.2725 - val_loss: 1.8704 - val_accuracy: 0.2587\n",
            "Epoch 4/20\n",
            "40042/40042 [==============================] - 2s 59us/step - loss: 1.8076 - accuracy: 0.2790 - val_loss: 1.8648 - val_accuracy: 0.2630\n",
            "Epoch 5/20\n",
            "40042/40042 [==============================] - 2s 59us/step - loss: 1.7922 - accuracy: 0.2831 - val_loss: 1.8747 - val_accuracy: 0.2644\n",
            "Epoch 6/20\n",
            "40042/40042 [==============================] - 2s 58us/step - loss: 1.7770 - accuracy: 0.2913 - val_loss: 1.8795 - val_accuracy: 0.2634\n",
            "Epoch 7/20\n",
            "40042/40042 [==============================] - 2s 59us/step - loss: 1.7656 - accuracy: 0.2941 - val_loss: 1.8688 - val_accuracy: 0.2734\n",
            "Epoch 8/20\n",
            "40042/40042 [==============================] - 2s 59us/step - loss: 1.7543 - accuracy: 0.2999 - val_loss: 1.8741 - val_accuracy: 0.2611\n",
            "Epoch 9/20\n",
            "40042/40042 [==============================] - 2s 58us/step - loss: 1.7433 - accuracy: 0.3034 - val_loss: 1.8712 - val_accuracy: 0.2644\n",
            "Epoch 10/20\n",
            "40042/40042 [==============================] - 2s 61us/step - loss: 1.7331 - accuracy: 0.3079 - val_loss: 1.8652 - val_accuracy: 0.2649\n",
            "Epoch 11/20\n",
            "40042/40042 [==============================] - 2s 59us/step - loss: 1.7230 - accuracy: 0.3106 - val_loss: 1.8694 - val_accuracy: 0.2649\n",
            "Epoch 12/20\n",
            "40042/40042 [==============================] - 2s 59us/step - loss: 1.7140 - accuracy: 0.3142 - val_loss: 1.8794 - val_accuracy: 0.2687\n",
            "Epoch 13/20\n",
            "40042/40042 [==============================] - 2s 59us/step - loss: 1.7060 - accuracy: 0.3166 - val_loss: 1.8640 - val_accuracy: 0.2696\n",
            "Epoch 14/20\n",
            "40042/40042 [==============================] - 2s 59us/step - loss: 1.6970 - accuracy: 0.3204 - val_loss: 1.8753 - val_accuracy: 0.2748\n",
            "Epoch 15/20\n",
            "40042/40042 [==============================] - 2s 58us/step - loss: 1.6890 - accuracy: 0.3241 - val_loss: 1.8977 - val_accuracy: 0.2568\n",
            "Epoch 16/20\n",
            "40042/40042 [==============================] - 2s 59us/step - loss: 1.6827 - accuracy: 0.3252 - val_loss: 1.8902 - val_accuracy: 0.2653\n",
            "Epoch 17/20\n",
            "40042/40042 [==============================] - 2s 59us/step - loss: 1.6772 - accuracy: 0.3264 - val_loss: 1.8866 - val_accuracy: 0.2649\n",
            "Epoch 18/20\n",
            "40042/40042 [==============================] - 2s 58us/step - loss: 1.6694 - accuracy: 0.3299 - val_loss: 1.8955 - val_accuracy: 0.2677\n",
            "Epoch 19/20\n",
            "40042/40042 [==============================] - 2s 58us/step - loss: 1.6619 - accuracy: 0.3350 - val_loss: 1.9021 - val_accuracy: 0.2706\n",
            "Epoch 20/20\n",
            "40042/40042 [==============================] - 2s 58us/step - loss: 1.6552 - accuracy: 0.3357 - val_loss: 1.9030 - val_accuracy: 0.2725\n",
            "-6\n",
            "(39916, 2, 128) (39916, 10) (2138, 2, 128) (2138, 10)\n",
            "Train on 39916 samples, validate on 2138 samples\n",
            "Epoch 1/20\n",
            "39916/39916 [==============================] - 2s 59us/step - loss: 1.6736 - accuracy: 0.3234 - val_loss: 1.6426 - val_accuracy: 0.3302\n",
            "Epoch 2/20\n",
            "39916/39916 [==============================] - 2s 59us/step - loss: 1.6232 - accuracy: 0.3379 - val_loss: 1.6269 - val_accuracy: 0.3471\n",
            "Epoch 3/20\n",
            "39916/39916 [==============================] - 2s 58us/step - loss: 1.5957 - accuracy: 0.3486 - val_loss: 1.6220 - val_accuracy: 0.3433\n",
            "Epoch 4/20\n",
            "39916/39916 [==============================] - 2s 58us/step - loss: 1.5756 - accuracy: 0.3542 - val_loss: 1.6244 - val_accuracy: 0.3438\n",
            "Epoch 5/20\n",
            "39916/39916 [==============================] - 2s 58us/step - loss: 1.5592 - accuracy: 0.3578 - val_loss: 1.6127 - val_accuracy: 0.3414\n",
            "Epoch 6/20\n",
            "39916/39916 [==============================] - 2s 58us/step - loss: 1.5432 - accuracy: 0.3612 - val_loss: 1.6195 - val_accuracy: 0.3396\n",
            "Epoch 7/20\n",
            "39916/39916 [==============================] - 2s 58us/step - loss: 1.5294 - accuracy: 0.3685 - val_loss: 1.6024 - val_accuracy: 0.3442\n",
            "Epoch 8/20\n",
            "39916/39916 [==============================] - 2s 59us/step - loss: 1.5169 - accuracy: 0.3724 - val_loss: 1.5953 - val_accuracy: 0.3485\n",
            "Epoch 9/20\n",
            "39916/39916 [==============================] - 2s 59us/step - loss: 1.5045 - accuracy: 0.3771 - val_loss: 1.6058 - val_accuracy: 0.3531\n",
            "Epoch 10/20\n",
            "39916/39916 [==============================] - 2s 60us/step - loss: 1.4927 - accuracy: 0.3806 - val_loss: 1.6116 - val_accuracy: 0.3457\n",
            "Epoch 11/20\n",
            "39916/39916 [==============================] - 2s 59us/step - loss: 1.4831 - accuracy: 0.3834 - val_loss: 1.5990 - val_accuracy: 0.3517\n",
            "Epoch 12/20\n",
            "39916/39916 [==============================] - 2s 59us/step - loss: 1.4734 - accuracy: 0.3883 - val_loss: 1.5985 - val_accuracy: 0.3517\n",
            "Epoch 13/20\n",
            "39916/39916 [==============================] - 2s 60us/step - loss: 1.4647 - accuracy: 0.3881 - val_loss: 1.5958 - val_accuracy: 0.3419\n",
            "Epoch 14/20\n",
            "39916/39916 [==============================] - 2s 59us/step - loss: 1.4570 - accuracy: 0.3927 - val_loss: 1.5959 - val_accuracy: 0.3517\n",
            "Epoch 15/20\n",
            "39916/39916 [==============================] - 2s 58us/step - loss: 1.4473 - accuracy: 0.3967 - val_loss: 1.5951 - val_accuracy: 0.3475\n",
            "Epoch 16/20\n",
            "39916/39916 [==============================] - 2s 58us/step - loss: 1.4440 - accuracy: 0.3981 - val_loss: 1.5995 - val_accuracy: 0.3587\n",
            "Epoch 17/20\n",
            "39916/39916 [==============================] - 2s 58us/step - loss: 1.4332 - accuracy: 0.4000 - val_loss: 1.5964 - val_accuracy: 0.3414\n",
            "Epoch 18/20\n",
            "39916/39916 [==============================] - 2s 58us/step - loss: 1.4279 - accuracy: 0.4030 - val_loss: 1.5984 - val_accuracy: 0.3396\n",
            "Epoch 19/20\n",
            "39916/39916 [==============================] - 2s 58us/step - loss: 1.4204 - accuracy: 0.4068 - val_loss: 1.5971 - val_accuracy: 0.3587\n",
            "Epoch 20/20\n",
            "39916/39916 [==============================] - 2s 59us/step - loss: 1.4136 - accuracy: 0.4083 - val_loss: 1.5953 - val_accuracy: 0.3517\n",
            "-4\n",
            "(39860, 2, 128) (39860, 10) (2146, 2, 128) (2146, 10)\n",
            "Train on 39860 samples, validate on 2146 samples\n",
            "Epoch 1/20\n",
            "39860/39860 [==============================] - 2s 58us/step - loss: 1.3785 - accuracy: 0.4130 - val_loss: 1.3445 - val_accuracy: 0.3877\n",
            "Epoch 2/20\n",
            "39860/39860 [==============================] - 2s 59us/step - loss: 1.3277 - accuracy: 0.4327 - val_loss: 1.3177 - val_accuracy: 0.4133\n",
            "Epoch 3/20\n",
            "39860/39860 [==============================] - 2s 58us/step - loss: 1.2996 - accuracy: 0.4431 - val_loss: 1.3214 - val_accuracy: 0.4152\n",
            "Epoch 4/20\n",
            "39860/39860 [==============================] - 2s 59us/step - loss: 1.2727 - accuracy: 0.4502 - val_loss: 1.3061 - val_accuracy: 0.4133\n",
            "Epoch 5/20\n",
            "39860/39860 [==============================] - 2s 59us/step - loss: 1.2536 - accuracy: 0.4576 - val_loss: 1.3090 - val_accuracy: 0.4194\n",
            "Epoch 6/20\n",
            "39860/39860 [==============================] - 2s 59us/step - loss: 1.2364 - accuracy: 0.4647 - val_loss: 1.3096 - val_accuracy: 0.4208\n",
            "Epoch 7/20\n",
            "39860/39860 [==============================] - 2s 58us/step - loss: 1.2223 - accuracy: 0.4699 - val_loss: 1.3025 - val_accuracy: 0.4310\n",
            "Epoch 8/20\n",
            "11712/39860 [=======>......................] - ETA: 1s - loss: 1.2052 - accuracy: 0.4778"
          ],
          "name": "stdout"
        }
      ]
    },
    {
      "cell_type": "code",
      "metadata": {
        "id": "EGwjB3sPNok5",
        "colab_type": "code",
        "colab": {}
      },
      "source": [
        ""
      ],
      "execution_count": null,
      "outputs": []
    }
  ]
}